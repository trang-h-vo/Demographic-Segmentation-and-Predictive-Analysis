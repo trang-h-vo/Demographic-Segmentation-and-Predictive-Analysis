{
 "cells": [
  {
   "cell_type": "markdown",
   "id": "varying-genome",
   "metadata": {},
   "source": [
    "# French departments - Predictive analysis"
   ]
  },
  {
   "cell_type": "markdown",
   "id": "whole-clock",
   "metadata": {},
   "source": [
    "## Predict French citizen's wage \n",
    "By Trang VO\n",
    "\n",
    "https://github.com/trang-h-vo"
   ]
  },
  {
   "cell_type": "markdown",
   "id": "individual-investor",
   "metadata": {},
   "source": [
    "Import libraries"
   ]
  },
  {
   "cell_type": "code",
   "execution_count": 1,
   "id": "registered-customer",
   "metadata": {},
   "outputs": [],
   "source": [
    "import pandas as pd\n",
    "import numpy as np\n",
    "import os"
   ]
  },
  {
   "cell_type": "code",
   "execution_count": 2,
   "id": "latter-trust",
   "metadata": {},
   "outputs": [],
   "source": [
    "import seaborn as sns\n",
    "import matplotlib.pyplot as plt\n",
    "%matplotlib inline\n",
    "import matplotlib.style as style\n",
    "style.use('ggplot')\n",
    "import geopandas as gpd\n",
    "import descartes"
   ]
  },
  {
   "cell_type": "code",
   "execution_count": 3,
   "id": "brown-watershed",
   "metadata": {},
   "outputs": [
    {
     "data": {
      "text/plain": [
       "'/Users/HuyenTrang/Desktop/ML PROJECT/ML_Project_Group7_Submission/'"
      ]
     },
     "execution_count": 3,
     "metadata": {},
     "output_type": "execute_result"
    }
   ],
   "source": [
    "str(os.getcwd()) + '/'"
   ]
  },
  {
   "cell_type": "code",
   "execution_count": 4,
   "id": "stuffed-yugoslavia",
   "metadata": {},
   "outputs": [],
   "source": [
    "folder_path = str(os.getcwd()) + '/'\n",
    "city_adm = pd.read_csv(folder_path + 'city_adm.csv')\n",
    "city_loc = pd.read_csv(folder_path + 'city_loc.csv')\n",
    "city_pop = pd.read_csv(folder_path + 'city_pop.csv')\n",
    "code_activity_sector = pd.read_csv(folder_path + 'code_activity_sector.csv')\n",
    "code_DEGREE = pd.read_csv(folder_path + 'code_DEGREE.csv')\n",
    "code_employee_count = pd.read_csv(folder_path + 'code_employee_count.csv')\n",
    "code_Employer_category = pd.read_csv(folder_path + 'code_Employer_category.csv')\n",
    "code_household_type = pd.read_csv(folder_path + 'code_household_type.csv')\n",
    "code_JOB_CATEGORY = pd.read_csv(folder_path + 'code_JOB_CATEGORY.csv')\n",
    "code_Job_description_map = pd.read_csv(folder_path + 'code_Job_description_map.csv')\n",
    "code_job_description_n1 = pd.read_csv(folder_path + 'code_Job_description_n1.csv')\n",
    "code_Job_description_n2 = pd.read_csv(folder_path + 'code_Job_description_n2.csv')\n",
    "code_Job_description = pd.read_csv(folder_path + 'code_Job_description.csv')\n",
    "code_type_of_contract = pd.read_csv(folder_path + 'code_type_of_contract.csv')\n",
    "code_work_condition = pd.read_csv(folder_path + 'code_work_condition.csv')\n",
    "departments = pd.read_csv(folder_path + 'departments.csv')\n",
    "regions = pd.read_csv(folder_path + 'regions.csv')"
   ]
  },
  {
   "cell_type": "code",
   "execution_count": 5,
   "id": "hispanic-volume",
   "metadata": {},
   "outputs": [],
   "source": [
    "learn = pd.read_csv(folder_path + 'learn.csv')\n",
    "test = pd.read_csv(folder_path + 'test.csv')"
   ]
  },
  {
   "cell_type": "markdown",
   "id": "junior-fusion",
   "metadata": {},
   "source": [
    "### DATA PREPARATION"
   ]
  },
  {
   "cell_type": "code",
   "execution_count": 6,
   "id": "deadly-entertainment",
   "metadata": {
    "scrolled": true
   },
   "outputs": [
    {
     "name": "stdout",
     "output_type": "stream",
     "text": [
      "(10184, 15)\n"
     ]
    },
    {
     "data": {
      "text/html": [
       "<div>\n",
       "<style scoped>\n",
       "    .dataframe tbody tr th:only-of-type {\n",
       "        vertical-align: middle;\n",
       "    }\n",
       "\n",
       "    .dataframe tbody tr th {\n",
       "        vertical-align: top;\n",
       "    }\n",
       "\n",
       "    .dataframe thead th {\n",
       "        text-align: right;\n",
       "    }\n",
       "</style>\n",
       "<table border=\"1\" class=\"dataframe\">\n",
       "  <thead>\n",
       "    <tr style=\"text-align: right;\">\n",
       "      <th></th>\n",
       "      <th>household_type</th>\n",
       "      <th>job_dep</th>\n",
       "      <th>work_condition</th>\n",
       "      <th>DEGREE</th>\n",
       "      <th>Employer_category</th>\n",
       "      <th>JOB_CATEGORY</th>\n",
       "      <th>Job_description</th>\n",
       "      <th>type_of_contract</th>\n",
       "      <th>working_hours</th>\n",
       "      <th>employee_count</th>\n",
       "      <th>INSEE_CODE</th>\n",
       "      <th>Age_2019</th>\n",
       "      <th>activity_sector</th>\n",
       "      <th>Sex</th>\n",
       "      <th>Wage</th>\n",
       "    </tr>\n",
       "  </thead>\n",
       "  <tbody>\n",
       "    <tr>\n",
       "      <th>0</th>\n",
       "      <td>M_3_1</td>\n",
       "      <td>92</td>\n",
       "      <td>C</td>\n",
       "      <td>educ|1</td>\n",
       "      <td>ct_9</td>\n",
       "      <td>X</td>\n",
       "      <td>564b</td>\n",
       "      <td>AUT</td>\n",
       "      <td>1531.0</td>\n",
       "      <td>tr_2</td>\n",
       "      <td>75118</td>\n",
       "      <td>21</td>\n",
       "      <td>JC</td>\n",
       "      <td>Female</td>\n",
       "      <td>4804</td>\n",
       "    </tr>\n",
       "    <tr>\n",
       "      <th>1</th>\n",
       "      <td>M_4_1</td>\n",
       "      <td>59</td>\n",
       "      <td>C</td>\n",
       "      <td>educ|2</td>\n",
       "      <td>ct_7</td>\n",
       "      <td>O</td>\n",
       "      <td>563c</td>\n",
       "      <td>CDI</td>\n",
       "      <td>868.0</td>\n",
       "      <td>tr_1</td>\n",
       "      <td>59008</td>\n",
       "      <td>53</td>\n",
       "      <td>TZ</td>\n",
       "      <td>Female</td>\n",
       "      <td>10536</td>\n",
       "    </tr>\n",
       "    <tr>\n",
       "      <th>2</th>\n",
       "      <td>M_4_1</td>\n",
       "      <td>93</td>\n",
       "      <td>D</td>\n",
       "      <td>educ|2</td>\n",
       "      <td>ct_7</td>\n",
       "      <td>O</td>\n",
       "      <td>563a</td>\n",
       "      <td>CDI</td>\n",
       "      <td>1398.0</td>\n",
       "      <td>tr_1</td>\n",
       "      <td>93063</td>\n",
       "      <td>52</td>\n",
       "      <td>QB</td>\n",
       "      <td>Female</td>\n",
       "      <td>7119</td>\n",
       "    </tr>\n",
       "  </tbody>\n",
       "</table>\n",
       "</div>"
      ],
      "text/plain": [
       "  household_type job_dep work_condition  DEGREE Employer_category  \\\n",
       "0          M_3_1      92              C  educ|1              ct_9   \n",
       "1          M_4_1      59              C  educ|2              ct_7   \n",
       "2          M_4_1      93              D  educ|2              ct_7   \n",
       "\n",
       "  JOB_CATEGORY Job_description type_of_contract  working_hours employee_count  \\\n",
       "0            X            564b              AUT         1531.0           tr_2   \n",
       "1            O            563c              CDI          868.0           tr_1   \n",
       "2            O            563a              CDI         1398.0           tr_1   \n",
       "\n",
       "  INSEE_CODE  Age_2019 activity_sector     Sex   Wage  \n",
       "0      75118        21              JC  Female   4804  \n",
       "1      59008        53              TZ  Female  10536  \n",
       "2      93063        52              QB  Female   7119  "
      ]
     },
     "execution_count": 6,
     "metadata": {},
     "output_type": "execute_result"
    }
   ],
   "source": [
    "print(learn.shape)\n",
    "learn.head(3)"
   ]
  },
  {
   "cell_type": "code",
   "execution_count": 7,
   "id": "mature-sociology",
   "metadata": {
    "scrolled": true
   },
   "outputs": [
    {
     "name": "stdout",
     "output_type": "stream",
     "text": [
      "<class 'pandas.core.frame.DataFrame'>\n",
      "RangeIndex: 10184 entries, 0 to 10183\n",
      "Data columns (total 15 columns):\n",
      " #   Column             Non-Null Count  Dtype  \n",
      "---  ------             --------------  -----  \n",
      " 0   household_type     10184 non-null  object \n",
      " 1   job_dep            10184 non-null  object \n",
      " 2   work_condition     10184 non-null  object \n",
      " 3   DEGREE             10184 non-null  object \n",
      " 4   Employer_category  10184 non-null  object \n",
      " 5   JOB_CATEGORY       10184 non-null  object \n",
      " 6   Job_description    10184 non-null  object \n",
      " 7   type_of_contract   10184 non-null  object \n",
      " 8   working_hours      10147 non-null  float64\n",
      " 9   employee_count     10184 non-null  object \n",
      " 10  INSEE_CODE         10184 non-null  object \n",
      " 11  Age_2019           10184 non-null  int64  \n",
      " 12  activity_sector    10184 non-null  object \n",
      " 13  Sex                10184 non-null  object \n",
      " 14  Wage               10184 non-null  int64  \n",
      "dtypes: float64(1), int64(2), object(12)\n",
      "memory usage: 1.2+ MB\n"
     ]
    }
   ],
   "source": [
    "learn.info()"
   ]
  },
  {
   "cell_type": "code",
   "execution_count": 8,
   "id": "rubber-raise",
   "metadata": {},
   "outputs": [
    {
     "name": "stdout",
     "output_type": "stream",
     "text": [
      "(10180, 14)\n"
     ]
    },
    {
     "data": {
      "text/html": [
       "<div>\n",
       "<style scoped>\n",
       "    .dataframe tbody tr th:only-of-type {\n",
       "        vertical-align: middle;\n",
       "    }\n",
       "\n",
       "    .dataframe tbody tr th {\n",
       "        vertical-align: top;\n",
       "    }\n",
       "\n",
       "    .dataframe thead th {\n",
       "        text-align: right;\n",
       "    }\n",
       "</style>\n",
       "<table border=\"1\" class=\"dataframe\">\n",
       "  <thead>\n",
       "    <tr style=\"text-align: right;\">\n",
       "      <th></th>\n",
       "      <th>household_type</th>\n",
       "      <th>job_dep</th>\n",
       "      <th>work_condition</th>\n",
       "      <th>DEGREE</th>\n",
       "      <th>Employer_category</th>\n",
       "      <th>JOB_CATEGORY</th>\n",
       "      <th>Job_description</th>\n",
       "      <th>type_of_contract</th>\n",
       "      <th>working_hours</th>\n",
       "      <th>employee_count</th>\n",
       "      <th>INSEE_CODE</th>\n",
       "      <th>Age_2019</th>\n",
       "      <th>activity_sector</th>\n",
       "      <th>Sex</th>\n",
       "    </tr>\n",
       "  </thead>\n",
       "  <tbody>\n",
       "    <tr>\n",
       "      <th>0</th>\n",
       "      <td>M_4_1</td>\n",
       "      <td>95</td>\n",
       "      <td>P</td>\n",
       "      <td>educ|1</td>\n",
       "      <td>ct_2</td>\n",
       "      <td>O</td>\n",
       "      <td>523c</td>\n",
       "      <td>CDD</td>\n",
       "      <td>550.0</td>\n",
       "      <td>tr_6</td>\n",
       "      <td>78146</td>\n",
       "      <td>52</td>\n",
       "      <td>OZ</td>\n",
       "      <td>Female</td>\n",
       "    </tr>\n",
       "    <tr>\n",
       "      <th>1</th>\n",
       "      <td>M_4_1</td>\n",
       "      <td>59</td>\n",
       "      <td>P</td>\n",
       "      <td>educ|2</td>\n",
       "      <td>ct_9</td>\n",
       "      <td>O</td>\n",
       "      <td>676c</td>\n",
       "      <td>TTP</td>\n",
       "      <td>1142.0</td>\n",
       "      <td>tr_4</td>\n",
       "      <td>59599</td>\n",
       "      <td>29</td>\n",
       "      <td>NZ</td>\n",
       "      <td>Male</td>\n",
       "    </tr>\n",
       "    <tr>\n",
       "      <th>2</th>\n",
       "      <td>M_4_1</td>\n",
       "      <td>92</td>\n",
       "      <td>C</td>\n",
       "      <td>educ|2</td>\n",
       "      <td>ct_9</td>\n",
       "      <td>X</td>\n",
       "      <td>676e</td>\n",
       "      <td>AUT</td>\n",
       "      <td>798.0</td>\n",
       "      <td>tr_6</td>\n",
       "      <td>75108</td>\n",
       "      <td>27</td>\n",
       "      <td>CL</td>\n",
       "      <td>Male</td>\n",
       "    </tr>\n",
       "  </tbody>\n",
       "</table>\n",
       "</div>"
      ],
      "text/plain": [
       "  household_type job_dep work_condition  DEGREE Employer_category  \\\n",
       "0          M_4_1      95              P  educ|1              ct_2   \n",
       "1          M_4_1      59              P  educ|2              ct_9   \n",
       "2          M_4_1      92              C  educ|2              ct_9   \n",
       "\n",
       "  JOB_CATEGORY Job_description type_of_contract  working_hours employee_count  \\\n",
       "0            O            523c              CDD          550.0           tr_6   \n",
       "1            O            676c              TTP         1142.0           tr_4   \n",
       "2            X            676e              AUT          798.0           tr_6   \n",
       "\n",
       "  INSEE_CODE  Age_2019 activity_sector     Sex  \n",
       "0      78146        52              OZ  Female  \n",
       "1      59599        29              NZ    Male  \n",
       "2      75108        27              CL    Male  "
      ]
     },
     "execution_count": 8,
     "metadata": {},
     "output_type": "execute_result"
    }
   ],
   "source": [
    "print(test.shape)\n",
    "test.head(3)"
   ]
  },
  {
   "cell_type": "code",
   "execution_count": 9,
   "id": "intense-puppy",
   "metadata": {},
   "outputs": [
    {
     "name": "stdout",
     "output_type": "stream",
     "text": [
      "<class 'pandas.core.frame.DataFrame'>\n",
      "RangeIndex: 10180 entries, 0 to 10179\n",
      "Data columns (total 14 columns):\n",
      " #   Column             Non-Null Count  Dtype  \n",
      "---  ------             --------------  -----  \n",
      " 0   household_type     10180 non-null  object \n",
      " 1   job_dep            10180 non-null  object \n",
      " 2   work_condition     10180 non-null  object \n",
      " 3   DEGREE             10180 non-null  object \n",
      " 4   Employer_category  10180 non-null  object \n",
      " 5   JOB_CATEGORY       10180 non-null  object \n",
      " 6   Job_description    10180 non-null  object \n",
      " 7   type_of_contract   10180 non-null  object \n",
      " 8   working_hours      10148 non-null  float64\n",
      " 9   employee_count     10180 non-null  object \n",
      " 10  INSEE_CODE         10180 non-null  object \n",
      " 11  Age_2019           10180 non-null  int64  \n",
      " 12  activity_sector    10180 non-null  object \n",
      " 13  Sex                10180 non-null  object \n",
      "dtypes: float64(1), int64(1), object(12)\n",
      "memory usage: 1.1+ MB\n"
     ]
    }
   ],
   "source": [
    "test.info()"
   ]
  },
  {
   "cell_type": "markdown",
   "id": "secret-intervention",
   "metadata": {},
   "source": [
    "Note:\n",
    "\n",
    "- The learn set & test set are of similar in both structure and size, with 13 features and 10.000+ instances.\n",
    "- 11 out of 13 features are categorical.\n",
    "- Both data sets have with missing values in 'working_hours' column. We're required not to drop any rows in both data sets ,even though the number of rows with missing values is very small.\n",
    "- In the test set, the target values are not provided."
   ]
  },
  {
   "cell_type": "markdown",
   "id": "finite-martin",
   "metadata": {},
   "source": [
    "#### CATEGORICAL FEATURES"
   ]
  },
  {
   "cell_type": "markdown",
   "id": "nearby-contractor",
   "metadata": {},
   "source": [
    "Our strategy to treat categorical variables:\n",
    "\n",
    "- Variables with high number of categories: Analyze features on learn set in relation with the target variable ('Wage') & regrouping the categories.\n",
    "- Variables with low number of categories & relatively balanced distribution: use one-hot-encoding.\n",
    "- Variables with low number of categories but highly imbalanced distribution: turn to a binary variable.\n",
    "- Create a function to transform all the categorical features, except those directly go through one-hot-encoding in the pipeline. This function can be applied to both train & test set."
   ]
  },
  {
   "cell_type": "markdown",
   "id": "jewish-cherry",
   "metadata": {},
   "source": [
    "##### Household_type"
   ]
  },
  {
   "cell_type": "code",
   "execution_count": 10,
   "id": "harmful-occurrence",
   "metadata": {
    "scrolled": true
   },
   "outputs": [
    {
     "data": {
      "image/png": "[encoded data removed]",
      "text/plain": [
       "<Figure size 864x144 with 1 Axes>"
      ]
     },
     "metadata": {},
     "output_type": "display_data"
    }
   ],
   "source": [
    "household_type_pct = learn.household_type.value_counts(normalize=True)*100\n",
    "\n",
    "household_type_pct.to_frame().T.plot.barh(stacked=True, figsize=(12,2), width=0.2, colormap='YlGnBu')\n",
    "plt.title('Distribution based on household type', fontsize=12)\n",
    "plt.legend(ncol=9, bbox_to_anchor=(0.05, 0.7), loc='lower left', fontsize='small')\n",
    "plt.show()"
   ]
  },
  {
   "cell_type": "code",
   "execution_count": 11,
   "id": "consecutive-cassette",
   "metadata": {},
   "outputs": [
    {
     "data": {
      "image/png": "[encoded data removed]",
      "text/plain": [
       "<Figure size 576x432 with 1 Axes>"
      ]
     },
     "metadata": {},
     "output_type": "display_data"
    }
   ],
   "source": [
    "# style.use('seaborn-whitegrid')\n",
    "plt.figure(figsize=(8,6))\n",
    "sns.boxplot(data=learn, x='household_type', y='Wage',width=0.5, order=household_type_pct.index, palette=\"YlGnBu\")\n",
    "plt.title('Distribution of household type by wage')\n",
    "plt.show()"
   ]
  },
  {
   "cell_type": "markdown",
   "id": "recent-fireplace",
   "metadata": {},
   "source": [
    "There is no observable difference in wage across different types of household. We'll use one hot encoding for all categories, test their importances and reduce the dimensions later."
   ]
  },
  {
   "cell_type": "markdown",
   "id": "nervous-usage",
   "metadata": {},
   "source": [
    "##### Work condition"
   ]
  },
  {
   "cell_type": "code",
   "execution_count": 12,
   "id": "progressive-juvenile",
   "metadata": {
    "scrolled": true
   },
   "outputs": [
    {
     "data": {
      "text/html": [
       "<div>\n",
       "<style scoped>\n",
       "    .dataframe tbody tr th:only-of-type {\n",
       "        vertical-align: middle;\n",
       "    }\n",
       "\n",
       "    .dataframe tbody tr th {\n",
       "        vertical-align: top;\n",
       "    }\n",
       "\n",
       "    .dataframe thead th {\n",
       "        text-align: right;\n",
       "    }\n",
       "</style>\n",
       "<table border=\"1\" class=\"dataframe\">\n",
       "  <thead>\n",
       "    <tr style=\"text-align: right;\">\n",
       "      <th></th>\n",
       "      <th>Code</th>\n",
       "      <th>Libellé</th>\n",
       "    </tr>\n",
       "  </thead>\n",
       "  <tbody>\n",
       "    <tr>\n",
       "      <th>0</th>\n",
       "      <td>C</td>\n",
       "      <td>Temps complet</td>\n",
       "    </tr>\n",
       "    <tr>\n",
       "      <th>1</th>\n",
       "      <td>D</td>\n",
       "      <td>Travail à domicile</td>\n",
       "    </tr>\n",
       "    <tr>\n",
       "      <th>2</th>\n",
       "      <td>F</td>\n",
       "      <td>Faible temps partiel</td>\n",
       "    </tr>\n",
       "    <tr>\n",
       "      <th>3</th>\n",
       "      <td>K</td>\n",
       "      <td>Condition d'emploi mixte à dominante temps com...</td>\n",
       "    </tr>\n",
       "    <tr>\n",
       "      <th>4</th>\n",
       "      <td>P</td>\n",
       "      <td>Temps partiel</td>\n",
       "    </tr>\n",
       "    <tr>\n",
       "      <th>5</th>\n",
       "      <td>Y</td>\n",
       "      <td>Condition d'emploi mixte à dominante temps non...</td>\n",
       "    </tr>\n",
       "  </tbody>\n",
       "</table>\n",
       "</div>"
      ],
      "text/plain": [
       "  Code                                            Libellé\n",
       "0    C                                      Temps complet\n",
       "1    D                                 Travail à domicile\n",
       "2    F                               Faible temps partiel\n",
       "3    K  Condition d'emploi mixte à dominante temps com...\n",
       "4    P                                      Temps partiel\n",
       "5    Y  Condition d'emploi mixte à dominante temps non..."
      ]
     },
     "execution_count": 12,
     "metadata": {},
     "output_type": "execute_result"
    }
   ],
   "source": [
    "code_work_condition"
   ]
  },
  {
   "cell_type": "code",
   "execution_count": 13,
   "id": "chemical-testimony",
   "metadata": {},
   "outputs": [
    {
     "data": {
      "image/png": "[encoded data removed]",
      "text/plain": [
       "<Figure size 720x144 with 1 Axes>"
      ]
     },
     "metadata": {},
     "output_type": "display_data"
    }
   ],
   "source": [
    "work_contract_pct = learn.work_condition.value_counts(normalize=True)*100\n",
    "\n",
    "work_contract_pct.to_frame().T.plot.barh(stacked=True, figsize=(10,2), width=0.2, colormap='copper_r')\n",
    "plt.title('Distribution of work condition')\n",
    "plt.legend(ncol=6, bbox_to_anchor=(0.25, 0.7), loc='lower left', fontsize='small')\n",
    "plt.show()      "
   ]
  },
  {
   "cell_type": "code",
   "execution_count": 14,
   "id": "aging-forward",
   "metadata": {},
   "outputs": [
    {
     "data": {
      "image/png": "[encoded data removed]",
      "text/plain": [
       "<Figure size 432x288 with 1 Axes>"
      ]
     },
     "metadata": {},
     "output_type": "display_data"
    }
   ],
   "source": [
    "# distribution of wage across work condition categories\n",
    "sns.boxplot(y='Wage', x='work_condition', data=learn, order=work_contract_pct.index, width=0.5, palette=\"copper_r\")\n",
    "plt.title('Distribution of wage across work condition categories')\n",
    "plt.show()"
   ]
  },
  {
   "cell_type": "markdown",
   "id": "exempt-penny",
   "metadata": {},
   "source": [
    "Based on the dominance of full-time and part-time categories, as well as their characteristics, we'll regroup this feature into 3 categories:\n",
    "\n",
    "    - 1: Full-time (C)\n",
    "    - 2: Part-time & work from home (P & D)\n",
    "    - 3: Others (F, K, Y)\n",
    "    \n",
    "We can also merge the last 2 groups, but we'll come back on this later."
   ]
  },
  {
   "cell_type": "code",
   "execution_count": 15,
   "id": "coastal-baseball",
   "metadata": {},
   "outputs": [],
   "source": [
    "def trans_work_condition(x):\n",
    "    return 'fulltime' if x == 'C'\\\n",
    "        else 'parttime_wfh' if x in ['P', 'D']\\\n",
    "        else 'others'"
   ]
  },
  {
   "cell_type": "markdown",
   "id": "favorite-wrist",
   "metadata": {},
   "source": [
    "##### Degree"
   ]
  },
  {
   "cell_type": "markdown",
   "id": "reliable-anaheim",
   "metadata": {},
   "source": [
    "Regroup the degrees into 4 level: middle school & below, high school, bachelor & equivalent, master's and phD."
   ]
  },
  {
   "cell_type": "code",
   "execution_count": 16,
   "id": "endless-keyboard",
   "metadata": {},
   "outputs": [],
   "source": [
    "up_to_middle = ['educ|1', 'educ|2', 'educ|3', 'educ|1|1', 'educ|1|2']\n",
    "high_school = ['educ|1|3', 'educ|1|4', 'educ|1|5']\n",
    "bachelor = ['educ|1|6', 'educ|1|7']\n",
    "masters_phD = ['educ|1|8', 'educ|1|9']\n",
    "\n",
    "def trans_degree(x):\n",
    "    return 'up_to_middle' if x in up_to_middle \\\n",
    "        else 'high_school' if x in high_school \\\n",
    "        else 'bachelor' if x in bachelor \\\n",
    "        else 'masters_phD'"
   ]
  },
  {
   "cell_type": "markdown",
   "id": "viral-madonna",
   "metadata": {},
   "source": [
    "##### Employer category"
   ]
  },
  {
   "cell_type": "code",
   "execution_count": 17,
   "id": "corrected-january",
   "metadata": {
    "scrolled": true
   },
   "outputs": [
    {
     "data": {
      "text/html": [
       "<div>\n",
       "<style scoped>\n",
       "    .dataframe tbody tr th:only-of-type {\n",
       "        vertical-align: middle;\n",
       "    }\n",
       "\n",
       "    .dataframe tbody tr th {\n",
       "        vertical-align: top;\n",
       "    }\n",
       "\n",
       "    .dataframe thead th {\n",
       "        text-align: right;\n",
       "    }\n",
       "</style>\n",
       "<table border=\"1\" class=\"dataframe\">\n",
       "  <thead>\n",
       "    <tr style=\"text-align: right;\">\n",
       "      <th></th>\n",
       "      <th>Code</th>\n",
       "      <th>Libellé</th>\n",
       "    </tr>\n",
       "  </thead>\n",
       "  <tbody>\n",
       "    <tr>\n",
       "      <th>0</th>\n",
       "      <td>ct_1</td>\n",
       "      <td>Fonction Publique d'État</td>\n",
       "    </tr>\n",
       "    <tr>\n",
       "      <th>1</th>\n",
       "      <td>ct_2</td>\n",
       "      <td>Fonction Publique Territoriale</td>\n",
       "    </tr>\n",
       "    <tr>\n",
       "      <th>2</th>\n",
       "      <td>ct_3</td>\n",
       "      <td>Fonction Publique Hospitalière</td>\n",
       "    </tr>\n",
       "    <tr>\n",
       "      <th>3</th>\n",
       "      <td>ct_4</td>\n",
       "      <td>Autres organismes publics administratifs</td>\n",
       "    </tr>\n",
       "    <tr>\n",
       "      <th>4</th>\n",
       "      <td>ct_5</td>\n",
       "      <td>Personnes morales de droit public soumises au ...</td>\n",
       "    </tr>\n",
       "    <tr>\n",
       "      <th>5</th>\n",
       "      <td>ct_6</td>\n",
       "      <td>Entreprises individuelles</td>\n",
       "    </tr>\n",
       "    <tr>\n",
       "      <th>6</th>\n",
       "      <td>ct_7</td>\n",
       "      <td>Particuliers Employeurs</td>\n",
       "    </tr>\n",
       "    <tr>\n",
       "      <th>7</th>\n",
       "      <td>ct_8</td>\n",
       "      <td>Organismes privés spécialisés et groupements d...</td>\n",
       "    </tr>\n",
       "    <tr>\n",
       "      <th>8</th>\n",
       "      <td>ct_9</td>\n",
       "      <td>Autres sociétés privées</td>\n",
       "    </tr>\n",
       "  </tbody>\n",
       "</table>\n",
       "</div>"
      ],
      "text/plain": [
       "   Code                                            Libellé\n",
       "0  ct_1                           Fonction Publique d'État\n",
       "1  ct_2                     Fonction Publique Territoriale\n",
       "2  ct_3                     Fonction Publique Hospitalière\n",
       "3  ct_4           Autres organismes publics administratifs\n",
       "4  ct_5  Personnes morales de droit public soumises au ...\n",
       "5  ct_6                          Entreprises individuelles\n",
       "6  ct_7                            Particuliers Employeurs\n",
       "7  ct_8  Organismes privés spécialisés et groupements d...\n",
       "8  ct_9                            Autres sociétés privées"
      ]
     },
     "execution_count": 17,
     "metadata": {},
     "output_type": "execute_result"
    }
   ],
   "source": [
    "code_Employer_category"
   ]
  },
  {
   "cell_type": "code",
   "execution_count": 18,
   "id": "sonic-withdrawal",
   "metadata": {},
   "outputs": [
    {
     "data": {
      "image/png": "[encoded data removed]",
      "text/plain": [
       "<Figure size 720x144 with 1 Axes>"
      ]
     },
     "metadata": {},
     "output_type": "display_data"
    }
   ],
   "source": [
    "employer_pct = learn.Employer_category.value_counts(normalize=True)*100\n",
    "\n",
    "employer_pct.to_frame().T.plot.barh(stacked=True, figsize=(10,2), width=0.2, colormap='PRGn')\n",
    "plt.title('Distribution based on employer category', fontsize=12)\n",
    "plt.legend(ncol=9, bbox_to_anchor=(0.05, 0.7), loc='lower left', fontsize='small')\n",
    "plt.show()"
   ]
  },
  {
   "cell_type": "code",
   "execution_count": 19,
   "id": "optimum-lighter",
   "metadata": {
    "scrolled": false
   },
   "outputs": [
    {
     "data": {
      "image/png": "[encoded data removed]",
      "text/plain": [
       "<Figure size 432x288 with 1 Axes>"
      ]
     },
     "metadata": {},
     "output_type": "display_data"
    }
   ],
   "source": [
    "sns.boxplot(data=learn, y='Wage', x='Employer_category', order=employer_pct.index, palette=\"PRGn\")\n",
    "plt.title('Distribution of employer category based on wage', fontsize=12)\n",
    "plt.show()"
   ]
  },
  {
   "cell_type": "markdown",
   "id": "disabled-actress",
   "metadata": {},
   "source": [
    "Option 1: as the employer category can have a significant affect on the wage, we can encode all these categories and test their significance. If there's no clear significance, we can go back and regroup them to reduce the dimension.\n",
    "\n",
    "Option 2: Based on the employer's characteristics, we can regroup them into 3 categories: \n",
    "\n",
    "    - Public service: ct-1, ct-2, ct-3, ct-4 & ct-5\n",
    "    - Private company: ct-6, ct-8, ct-9\n",
    "    - Individuals Employers: ct-7"
   ]
  },
  {
   "cell_type": "markdown",
   "id": "embedded-disco",
   "metadata": {},
   "source": [
    "##### Job category"
   ]
  },
  {
   "cell_type": "code",
   "execution_count": 20,
   "id": "fundamental-repeat",
   "metadata": {},
   "outputs": [
    {
     "data": {
      "text/plain": [
       "O    96.278476\n",
       "X     2.091516\n",
       "A     1.630008\n",
       "Name: JOB_CATEGORY, dtype: float64"
      ]
     },
     "execution_count": 20,
     "metadata": {},
     "output_type": "execute_result"
    }
   ],
   "source": [
    "learn.JOB_CATEGORY.value_counts(normalize=True)*100"
   ]
  },
  {
   "cell_type": "code",
   "execution_count": 21,
   "id": "legislative-pilot",
   "metadata": {
    "scrolled": true
   },
   "outputs": [
    {
     "data": {
      "image/png": "[encoded data removed]",
      "text/plain": [
       "<Figure size 432x288 with 1 Axes>"
      ]
     },
     "metadata": {},
     "output_type": "display_data"
    }
   ],
   "source": [
    "sns.boxplot(y='Wage', x='JOB_CATEGORY',data=learn, width=0.3, order=code_JOB_CATEGORY.Code, palette=\"Blues_r\")\n",
    "plt.show()"
   ]
  },
  {
   "cell_type": "markdown",
   "id": "noble-canadian",
   "metadata": {},
   "source": [
    "The 'ordinary job' category accounts for more than 95% of the people in the learn set. The boxplot shows sign that salary range of this group is higher than other minority groups. So we can recategorize this group into 'emploi ordinaire' & others."
   ]
  },
  {
   "cell_type": "markdown",
   "id": "stock-binding",
   "metadata": {},
   "source": [
    "##### Job description"
   ]
  },
  {
   "cell_type": "code",
   "execution_count": 22,
   "id": "charming-launch",
   "metadata": {},
   "outputs": [
    {
     "name": "stdout",
     "output_type": "stream",
     "text": [
      "(429, 2)\n"
     ]
    },
    {
     "data": {
      "text/html": [
       "<div>\n",
       "<style scoped>\n",
       "    .dataframe tbody tr th:only-of-type {\n",
       "        vertical-align: middle;\n",
       "    }\n",
       "\n",
       "    .dataframe tbody tr th {\n",
       "        vertical-align: top;\n",
       "    }\n",
       "\n",
       "    .dataframe thead th {\n",
       "        text-align: right;\n",
       "    }\n",
       "</style>\n",
       "<table border=\"1\" class=\"dataframe\">\n",
       "  <thead>\n",
       "    <tr style=\"text-align: right;\">\n",
       "      <th></th>\n",
       "      <th>Code</th>\n",
       "      <th>Libellé</th>\n",
       "    </tr>\n",
       "  </thead>\n",
       "  <tbody>\n",
       "    <tr>\n",
       "      <th>0</th>\n",
       "      <td>100x</td>\n",
       "      <td>Agriculteurs et éleveurs, salariés de leur exp...</td>\n",
       "    </tr>\n",
       "    <tr>\n",
       "      <th>1</th>\n",
       "      <td>210x</td>\n",
       "      <td>Artisans salariés de leur entreprise</td>\n",
       "    </tr>\n",
       "    <tr>\n",
       "      <th>2</th>\n",
       "      <td>220x</td>\n",
       "      <td>Commerçants et assimilés, salariés de leur ent...</td>\n",
       "    </tr>\n",
       "  </tbody>\n",
       "</table>\n",
       "</div>"
      ],
      "text/plain": [
       "   Code                                            Libellé\n",
       "0  100x  Agriculteurs et éleveurs, salariés de leur exp...\n",
       "1  210x               Artisans salariés de leur entreprise\n",
       "2  220x  Commerçants et assimilés, salariés de leur ent..."
      ]
     },
     "execution_count": 22,
     "metadata": {},
     "output_type": "execute_result"
    }
   ],
   "source": [
    "print(code_Job_description.shape)\n",
    "code_Job_description.head(3)"
   ]
  },
  {
   "cell_type": "code",
   "execution_count": 23,
   "id": "empirical-convertible",
   "metadata": {},
   "outputs": [
    {
     "data": {
      "text/html": [
       "<div>\n",
       "<style scoped>\n",
       "    .dataframe tbody tr th:only-of-type {\n",
       "        vertical-align: middle;\n",
       "    }\n",
       "\n",
       "    .dataframe tbody tr th {\n",
       "        vertical-align: top;\n",
       "    }\n",
       "\n",
       "    .dataframe thead th {\n",
       "        text-align: right;\n",
       "    }\n",
       "</style>\n",
       "<table border=\"1\" class=\"dataframe\">\n",
       "  <thead>\n",
       "    <tr style=\"text-align: right;\">\n",
       "      <th></th>\n",
       "      <th>Code</th>\n",
       "      <th>Libellé</th>\n",
       "    </tr>\n",
       "  </thead>\n",
       "  <tbody>\n",
       "    <tr>\n",
       "      <th>0</th>\n",
       "      <td>1</td>\n",
       "      <td>Agriculteurs</td>\n",
       "    </tr>\n",
       "    <tr>\n",
       "      <th>1</th>\n",
       "      <td>2</td>\n",
       "      <td>Artisans, commerçants et chefs d'entreprises</td>\n",
       "    </tr>\n",
       "    <tr>\n",
       "      <th>2</th>\n",
       "      <td>3</td>\n",
       "      <td>Cadres et professions intellectuelles supérieures</td>\n",
       "    </tr>\n",
       "    <tr>\n",
       "      <th>3</th>\n",
       "      <td>4</td>\n",
       "      <td>Professions intermédiaires</td>\n",
       "    </tr>\n",
       "    <tr>\n",
       "      <th>4</th>\n",
       "      <td>5</td>\n",
       "      <td>Employés</td>\n",
       "    </tr>\n",
       "    <tr>\n",
       "      <th>5</th>\n",
       "      <td>6</td>\n",
       "      <td>Ouvriers</td>\n",
       "    </tr>\n",
       "  </tbody>\n",
       "</table>\n",
       "</div>"
      ],
      "text/plain": [
       "   Code                                            Libellé\n",
       "0     1                                       Agriculteurs\n",
       "1     2       Artisans, commerçants et chefs d'entreprises\n",
       "2     3  Cadres et professions intellectuelles supérieures\n",
       "3     4                         Professions intermédiaires\n",
       "4     5                                           Employés\n",
       "5     6                                           Ouvriers"
      ]
     },
     "execution_count": 23,
     "metadata": {},
     "output_type": "execute_result"
    }
   ],
   "source": [
    "# sector\n",
    "code_job_description_n1"
   ]
  },
  {
   "cell_type": "code",
   "execution_count": 24,
   "id": "manual-visibility",
   "metadata": {},
   "outputs": [
    {
     "data": {
      "text/html": [
       "<div>\n",
       "<style scoped>\n",
       "    .dataframe tbody tr th:only-of-type {\n",
       "        vertical-align: middle;\n",
       "    }\n",
       "\n",
       "    .dataframe tbody tr th {\n",
       "        vertical-align: top;\n",
       "    }\n",
       "\n",
       "    .dataframe thead th {\n",
       "        text-align: right;\n",
       "    }\n",
       "</style>\n",
       "<table border=\"1\" class=\"dataframe\">\n",
       "  <thead>\n",
       "    <tr style=\"text-align: right;\">\n",
       "      <th></th>\n",
       "      <th>Code</th>\n",
       "      <th>Libellé</th>\n",
       "    </tr>\n",
       "  </thead>\n",
       "  <tbody>\n",
       "    <tr>\n",
       "      <th>0</th>\n",
       "      <td>10</td>\n",
       "      <td>Agriculteurs (salariés de leur exploitation)</td>\n",
       "    </tr>\n",
       "    <tr>\n",
       "      <th>1</th>\n",
       "      <td>21</td>\n",
       "      <td>Artisans (salariés de leur entreprise)</td>\n",
       "    </tr>\n",
       "    <tr>\n",
       "      <th>2</th>\n",
       "      <td>22</td>\n",
       "      <td>Commerçants et assimilés (salariés de leur ent...</td>\n",
       "    </tr>\n",
       "  </tbody>\n",
       "</table>\n",
       "</div>"
      ],
      "text/plain": [
       "   Code                                            Libellé\n",
       "0    10       Agriculteurs (salariés de leur exploitation)\n",
       "1    21             Artisans (salariés de leur entreprise)\n",
       "2    22  Commerçants et assimilés (salariés de leur ent..."
      ]
     },
     "execution_count": 24,
     "metadata": {},
     "output_type": "execute_result"
    }
   ],
   "source": [
    "code_Job_description_n2.head(3)"
   ]
  },
  {
   "cell_type": "code",
   "execution_count": 25,
   "id": "indoor-publicity",
   "metadata": {},
   "outputs": [
    {
     "data": {
      "text/plain": [
       "(400,)"
      ]
     },
     "execution_count": 25,
     "metadata": {},
     "output_type": "execute_result"
    }
   ],
   "source": [
    "learn['Job_description'].unique().shape"
   ]
  },
  {
   "cell_type": "code",
   "execution_count": 26,
   "id": "veterinary-mills",
   "metadata": {},
   "outputs": [
    {
     "data": {
      "text/plain": [
       "5    3329\n",
       "4    2773\n",
       "6    2282\n",
       "3    1800\n",
       "Name: Job_description, dtype: int64"
      ]
     },
     "execution_count": 26,
     "metadata": {},
     "output_type": "execute_result"
    }
   ],
   "source": [
    "# job description n1\n",
    "learn['Job_description'].str.slice(stop=1).value_counts()"
   ]
  },
  {
   "cell_type": "code",
   "execution_count": 27,
   "id": "signed-recognition",
   "metadata": {},
   "outputs": [
    {
     "data": {
      "text/plain": [
       "52    1099\n",
       "46     946\n",
       "56     770\n",
       "54     719\n",
       "37     631\n",
       "43     590\n",
       "38     590\n",
       "47     519\n",
       "55     518\n",
       "67     511\n",
       "63     505\n",
       "62     410\n",
       "68     349\n",
       "42     342\n",
       "34     339\n",
       "64     268\n",
       "53     223\n",
       "48     212\n",
       "65     192\n",
       "45     164\n",
       "33     150\n",
       "35      74\n",
       "69      47\n",
       "31      16\n",
       "Name: Job_description, dtype: int64"
      ]
     },
     "execution_count": 27,
     "metadata": {},
     "output_type": "execute_result"
    }
   ],
   "source": [
    "# job description n2\n",
    "learn['Job_description'].str.slice(stop=2).value_counts()"
   ]
  },
  {
   "cell_type": "code",
   "execution_count": 28,
   "id": "pursuant-herald",
   "metadata": {
    "scrolled": false
   },
   "outputs": [
    {
     "data": {
      "image/png": "[encoded data removed]",
      "text/plain": [
       "<Figure size 432x288 with 1 Axes>"
      ]
     },
     "metadata": {},
     "output_type": "display_data"
    }
   ],
   "source": [
    "plt.figure(figsize=(6,4))\n",
    "sns.boxplot(y=learn['Wage'],\n",
    "            x=learn['Job_description'].str.slice(stop=1).sort_values(),\n",
    "            width=0.2, palette=\"PuBu_r\")\n",
    "plt.title('Distribution of Job_description_n1 by wage')\n",
    "plt.show()"
   ]
  },
  {
   "cell_type": "markdown",
   "id": "deadly-occupation",
   "metadata": {},
   "source": [
    "- Group 3 lies in significantly higher range, followed by group 4.\n",
    "- No clear distinction between group 5 & 6."
   ]
  },
  {
   "cell_type": "code",
   "execution_count": 29,
   "id": "ordinary-remark",
   "metadata": {},
   "outputs": [
    {
     "data": {
      "image/png": "[encoded data removed]",
      "text/plain": [
       "<Figure size 1296x432 with 1 Axes>"
      ]
     },
     "metadata": {},
     "output_type": "display_data"
    }
   ],
   "source": [
    "plt.figure(figsize=(18,6))\n",
    "sns.boxplot(y=learn['Wage'],\n",
    "            x=learn['Job_description'].str.slice(stop=2).sort_values(),\n",
    "            width=0.3, palette=\"PuBu_r\")\n",
    "plt.title('Distribution of Job_description_n2 by wage')\n",
    "plt.show()"
   ]
  },
  {
   "cell_type": "markdown",
   "id": "single-switzerland",
   "metadata": {},
   "source": [
    "- The sub-group distribution by wage supports our previous observation. We'll substract the descriptions at level 1 & 2 for our models."
   ]
  },
  {
   "cell_type": "code",
   "execution_count": 30,
   "id": "broke-couple",
   "metadata": {},
   "outputs": [],
   "source": [
    "def trans_work_description(df):\n",
    "    df['job_description_n1'] = df['Job_description'].str.slice(stop=1)\n",
    "    df['job_description_n2'] = df['Job_description'].str.slice(stop=2)\n",
    "    return df"
   ]
  },
  {
   "cell_type": "markdown",
   "id": "running-coral",
   "metadata": {},
   "source": [
    "Import external data about average hourly salary by job level 1 by department. We'll use it to replace the categorical value in job_description_n1 column."
   ]
  },
  {
   "cell_type": "code",
   "execution_count": 31,
   "id": "planned-portsmouth",
   "metadata": {},
   "outputs": [
    {
     "data": {
      "text/html": [
       "<div>\n",
       "<style scoped>\n",
       "    .dataframe tbody tr th:only-of-type {\n",
       "        vertical-align: middle;\n",
       "    }\n",
       "\n",
       "    .dataframe tbody tr th {\n",
       "        vertical-align: top;\n",
       "    }\n",
       "\n",
       "    .dataframe thead th {\n",
       "        text-align: right;\n",
       "    }\n",
       "</style>\n",
       "<table border=\"1\" class=\"dataframe\">\n",
       "  <thead>\n",
       "    <tr style=\"text-align: right;\">\n",
       "      <th></th>\n",
       "      <th>Code</th>\n",
       "      <th>Salaire net hor. moy. des cadres, prof. intellectuelles sup. et chefs d'entreprises salariés 2018</th>\n",
       "      <th>Salaire net hor. moy. des prof. intermédiaires 2018</th>\n",
       "      <th>Salaire net hor. moy. des employés 2018</th>\n",
       "      <th>Salaire net hor. moy. des ouvriers 2018</th>\n",
       "    </tr>\n",
       "  </thead>\n",
       "  <tbody>\n",
       "    <tr>\n",
       "      <th>0</th>\n",
       "      <td>01</td>\n",
       "      <td>25.09</td>\n",
       "      <td>15.20</td>\n",
       "      <td>11.02</td>\n",
       "      <td>11.53</td>\n",
       "    </tr>\n",
       "    <tr>\n",
       "      <th>1</th>\n",
       "      <td>02</td>\n",
       "      <td>23.63</td>\n",
       "      <td>14.94</td>\n",
       "      <td>10.61</td>\n",
       "      <td>11.50</td>\n",
       "    </tr>\n",
       "    <tr>\n",
       "      <th>2</th>\n",
       "      <td>03</td>\n",
       "      <td>23.35</td>\n",
       "      <td>14.49</td>\n",
       "      <td>10.29</td>\n",
       "      <td>11.18</td>\n",
       "    </tr>\n",
       "  </tbody>\n",
       "</table>\n",
       "</div>"
      ],
      "text/plain": [
       "  Code  \\\n",
       "0   01   \n",
       "1   02   \n",
       "2   03   \n",
       "\n",
       "   Salaire net hor. moy. des cadres, prof. intellectuelles sup. et chefs d'entreprises salariés 2018  \\\n",
       "0                                              25.09                                                   \n",
       "1                                              23.63                                                   \n",
       "2                                              23.35                                                   \n",
       "\n",
       "   Salaire net hor. moy. des prof. intermédiaires 2018  \\\n",
       "0                                              15.20     \n",
       "1                                              14.94     \n",
       "2                                              14.49     \n",
       "\n",
       "   Salaire net hor. moy. des employés 2018  \\\n",
       "0                                    11.02   \n",
       "1                                    10.61   \n",
       "2                                    10.29   \n",
       "\n",
       "   Salaire net hor. moy. des ouvriers 2018  \n",
       "0                                    11.53  \n",
       "1                                    11.50  \n",
       "2                                    11.18  "
      ]
     },
     "execution_count": 31,
     "metadata": {},
     "output_type": "execute_result"
    }
   ],
   "source": [
    "n1_hourly_salary = pd.read_excel(folder_path +'Average_salary_n1_department.xlsx',\n",
    "             skiprows=[0,1,2], header=0, nrows=96,\n",
    "             usecols=[0,3,4,5,6])\n",
    "n1_hourly_salary.head(3)"
   ]
  },
  {
   "cell_type": "code",
   "execution_count": 32,
   "id": "express-market",
   "metadata": {},
   "outputs": [],
   "source": [
    "n1_hourly_salary.columns = ['job_dep', '3', '4', '5', '6']"
   ]
  },
  {
   "cell_type": "code",
   "execution_count": 33,
   "id": "shared-drive",
   "metadata": {},
   "outputs": [
    {
     "name": "stdout",
     "output_type": "stream",
     "text": [
      "(384, 3)\n"
     ]
    },
    {
     "data": {
      "text/html": [
       "<div>\n",
       "<style scoped>\n",
       "    .dataframe tbody tr th:only-of-type {\n",
       "        vertical-align: middle;\n",
       "    }\n",
       "\n",
       "    .dataframe tbody tr th {\n",
       "        vertical-align: top;\n",
       "    }\n",
       "\n",
       "    .dataframe thead th {\n",
       "        text-align: right;\n",
       "    }\n",
       "</style>\n",
       "<table border=\"1\" class=\"dataframe\">\n",
       "  <thead>\n",
       "    <tr style=\"text-align: right;\">\n",
       "      <th></th>\n",
       "      <th>job_dep</th>\n",
       "      <th>job_description_n1</th>\n",
       "      <th>n1_hourly_salary_by_dep</th>\n",
       "    </tr>\n",
       "  </thead>\n",
       "  <tbody>\n",
       "    <tr>\n",
       "      <th>0</th>\n",
       "      <td>01</td>\n",
       "      <td>3</td>\n",
       "      <td>25.09</td>\n",
       "    </tr>\n",
       "    <tr>\n",
       "      <th>1</th>\n",
       "      <td>02</td>\n",
       "      <td>3</td>\n",
       "      <td>23.63</td>\n",
       "    </tr>\n",
       "    <tr>\n",
       "      <th>2</th>\n",
       "      <td>03</td>\n",
       "      <td>3</td>\n",
       "      <td>23.35</td>\n",
       "    </tr>\n",
       "  </tbody>\n",
       "</table>\n",
       "</div>"
      ],
      "text/plain": [
       "  job_dep job_description_n1  n1_hourly_salary_by_dep\n",
       "0      01                  3                    25.09\n",
       "1      02                  3                    23.63\n",
       "2      03                  3                    23.35"
      ]
     },
     "execution_count": 33,
     "metadata": {},
     "output_type": "execute_result"
    }
   ],
   "source": [
    "n1_hourly_salary_by_dep = pd.melt(n1_hourly_salary, id_vars=['job_dep'],\n",
    "        value_vars=['3', '4', '5', '6'],\n",
    "        var_name='job_description_n1', value_name='n1_hourly_salary_by_dep')\n",
    "print(n1_hourly_salary_by_dep.shape)\n",
    "n1_hourly_salary_by_dep.head(3)"
   ]
  },
  {
   "cell_type": "markdown",
   "id": "certified-hands",
   "metadata": {},
   "source": [
    "##### Type of contract"
   ]
  },
  {
   "cell_type": "code",
   "execution_count": 34,
   "id": "hollywood-junior",
   "metadata": {},
   "outputs": [
    {
     "data": {
      "text/html": [
       "<div>\n",
       "<style scoped>\n",
       "    .dataframe tbody tr th:only-of-type {\n",
       "        vertical-align: middle;\n",
       "    }\n",
       "\n",
       "    .dataframe tbody tr th {\n",
       "        vertical-align: top;\n",
       "    }\n",
       "\n",
       "    .dataframe thead th {\n",
       "        text-align: right;\n",
       "    }\n",
       "</style>\n",
       "<table border=\"1\" class=\"dataframe\">\n",
       "  <thead>\n",
       "    <tr style=\"text-align: right;\">\n",
       "      <th></th>\n",
       "      <th>Code</th>\n",
       "      <th>Libellé</th>\n",
       "    </tr>\n",
       "  </thead>\n",
       "  <tbody>\n",
       "    <tr>\n",
       "      <th>0</th>\n",
       "      <td>CDI</td>\n",
       "      <td>CDI</td>\n",
       "    </tr>\n",
       "    <tr>\n",
       "      <th>1</th>\n",
       "      <td>CDD</td>\n",
       "      <td>CDD</td>\n",
       "    </tr>\n",
       "    <tr>\n",
       "      <th>2</th>\n",
       "      <td>APP</td>\n",
       "      <td>Contrat d'apprentissage</td>\n",
       "    </tr>\n",
       "    <tr>\n",
       "      <th>3</th>\n",
       "      <td>TOA</td>\n",
       "      <td>Travail occasionnel ou à l'acte</td>\n",
       "    </tr>\n",
       "    <tr>\n",
       "      <th>4</th>\n",
       "      <td>TTP</td>\n",
       "      <td>Contrat de travail temporaire</td>\n",
       "    </tr>\n",
       "    <tr>\n",
       "      <th>5</th>\n",
       "      <td>AUT</td>\n",
       "      <td>Autre</td>\n",
       "    </tr>\n",
       "  </tbody>\n",
       "</table>\n",
       "</div>"
      ],
      "text/plain": [
       "  Code                          Libellé\n",
       "0  CDI                              CDI\n",
       "1  CDD                              CDD\n",
       "2  APP          Contrat d'apprentissage\n",
       "3  TOA  Travail occasionnel ou à l'acte\n",
       "4  TTP    Contrat de travail temporaire\n",
       "5  AUT                            Autre"
      ]
     },
     "execution_count": 34,
     "metadata": {},
     "output_type": "execute_result"
    }
   ],
   "source": [
    "code_type_of_contract"
   ]
  },
  {
   "cell_type": "code",
   "execution_count": 35,
   "id": "contrary-houston",
   "metadata": {},
   "outputs": [
    {
     "data": {
      "image/png": "[encoded data removed]",
      "text/plain": [
       "<Figure size 720x144 with 1 Axes>"
      ]
     },
     "metadata": {},
     "output_type": "display_data"
    }
   ],
   "source": [
    "type_of_contract_pct = learn.type_of_contract.value_counts(normalize=True)*100\n",
    "type_of_contract_pct.to_frame().T.plot.barh(stacked=True, figsize=(10,2), width=0.2, colormap='YlGnBu_r')\n",
    "plt.title('Distribution of work contract types', fontsize=12)\n",
    "plt.legend(ncol=9, bbox_to_anchor=(0.2, 0.7), loc='lower left', fontsize='small')\n",
    "plt.show()"
   ]
  },
  {
   "cell_type": "markdown",
   "id": "charming-chester",
   "metadata": {},
   "source": [
    "Again, the majority of people in the learn set have CDI contract. We'll regroup them as CDI contract (valued as 1) and non-CDI contract (valued as 0)."
   ]
  },
  {
   "cell_type": "markdown",
   "id": "surrounded-academy",
   "metadata": {},
   "source": [
    "##### Employee count (company size)"
   ]
  },
  {
   "cell_type": "code",
   "execution_count": 36,
   "id": "distinguished-program",
   "metadata": {},
   "outputs": [
    {
     "data": {
      "text/html": [
       "<div>\n",
       "<style scoped>\n",
       "    .dataframe tbody tr th:only-of-type {\n",
       "        vertical-align: middle;\n",
       "    }\n",
       "\n",
       "    .dataframe tbody tr th {\n",
       "        vertical-align: top;\n",
       "    }\n",
       "\n",
       "    .dataframe thead th {\n",
       "        text-align: right;\n",
       "    }\n",
       "</style>\n",
       "<table border=\"1\" class=\"dataframe\">\n",
       "  <thead>\n",
       "    <tr style=\"text-align: right;\">\n",
       "      <th></th>\n",
       "      <th>Code</th>\n",
       "      <th>Libellé</th>\n",
       "    </tr>\n",
       "  </thead>\n",
       "  <tbody>\n",
       "    <tr>\n",
       "      <th>0</th>\n",
       "      <td>tr_0</td>\n",
       "      <td>0 poste (salariés présents en cours d'année, m...</td>\n",
       "    </tr>\n",
       "    <tr>\n",
       "      <th>1</th>\n",
       "      <td>tr_1</td>\n",
       "      <td>[1;10[ postes</td>\n",
       "    </tr>\n",
       "    <tr>\n",
       "      <th>2</th>\n",
       "      <td>tr_2</td>\n",
       "      <td>[10;20[ postes</td>\n",
       "    </tr>\n",
       "    <tr>\n",
       "      <th>3</th>\n",
       "      <td>tr_3</td>\n",
       "      <td>[20;50[ postes</td>\n",
       "    </tr>\n",
       "    <tr>\n",
       "      <th>4</th>\n",
       "      <td>tr_4</td>\n",
       "      <td>[50;100[ postes</td>\n",
       "    </tr>\n",
       "    <tr>\n",
       "      <th>5</th>\n",
       "      <td>tr_5</td>\n",
       "      <td>[100;250[ postes</td>\n",
       "    </tr>\n",
       "    <tr>\n",
       "      <th>6</th>\n",
       "      <td>tr_6</td>\n",
       "      <td>[250;+[ postes</td>\n",
       "    </tr>\n",
       "  </tbody>\n",
       "</table>\n",
       "</div>"
      ],
      "text/plain": [
       "   Code                                            Libellé\n",
       "0  tr_0  0 poste (salariés présents en cours d'année, m...\n",
       "1  tr_1                                      [1;10[ postes\n",
       "2  tr_2                                     [10;20[ postes\n",
       "3  tr_3                                     [20;50[ postes\n",
       "4  tr_4                                    [50;100[ postes\n",
       "5  tr_5                                   [100;250[ postes\n",
       "6  tr_6                                     [250;+[ postes"
      ]
     },
     "execution_count": 36,
     "metadata": {},
     "output_type": "execute_result"
    }
   ],
   "source": [
    "code_employee_count"
   ]
  },
  {
   "cell_type": "code",
   "execution_count": 37,
   "id": "ultimate-christianity",
   "metadata": {},
   "outputs": [
    {
     "data": {
      "text/plain": [
       "tr_1    2304\n",
       "tr_6    2270\n",
       "tr_3    1653\n",
       "tr_5    1430\n",
       "tr_4    1267\n",
       "tr_2    1117\n",
       "tr_0     143\n",
       "Name: employee_count, dtype: int64"
      ]
     },
     "execution_count": 37,
     "metadata": {},
     "output_type": "execute_result"
    }
   ],
   "source": [
    "learn.employee_count.value_counts()"
   ]
  },
  {
   "cell_type": "code",
   "execution_count": 38,
   "id": "alien-mistress",
   "metadata": {
    "scrolled": false
   },
   "outputs": [
    {
     "data": {
      "image/png": "[encoded data removed]",
      "text/plain": [
       "<Figure size 432x288 with 1 Axes>"
      ]
     },
     "metadata": {},
     "output_type": "display_data"
    }
   ],
   "source": [
    "sns.boxplot(data=learn, x='employee_count',y='Wage', width=0.5, order=code_employee_count.Code, palette=\"PuBu\")\n",
    "plt.title('Distribution of company size categories by wage')\n",
    "plt.show()"
   ]
  },
  {
   "cell_type": "markdown",
   "id": "entertaining-green",
   "metadata": {},
   "source": [
    "We'll regroup the enterprises into 3 categories: \n",
    "\n",
    "    - Micro: 10 employees or less (tr_0 & tr_1)\n",
    "    - Small & medium: from 10 to 250 employees (tr_2, tr_3, tr_4 & tr_5)\n",
    "    - Large: more than 250 employees (tr_6)"
   ]
  },
  {
   "cell_type": "code",
   "execution_count": 39,
   "id": "satisfactory-german",
   "metadata": {},
   "outputs": [],
   "source": [
    "micro= ['tr_0', 'tr_1']\n",
    "small_medium = ['tr_2', 'tr_3', 'tr_4', 'tr_5']\n",
    "large = ['tr_6']\n",
    "def trans_employee_count(x):\n",
    "    return 'micro' if x in micro \\\n",
    "         else 'small_medium' if x in small_medium \\\n",
    "         else 'large'"
   ]
  },
  {
   "cell_type": "markdown",
   "id": "signal-summer",
   "metadata": {},
   "source": [
    "##### Activity sector"
   ]
  },
  {
   "cell_type": "code",
   "execution_count": 40,
   "id": "optional-halifax",
   "metadata": {},
   "outputs": [
    {
     "data": {
      "image/png": "[encoded data removed]",
      "text/plain": [
       "<Figure size 720x432 with 1 Axes>"
      ]
     },
     "metadata": {},
     "output_type": "display_data"
    }
   ],
   "source": [
    "plt.figure(figsize=(10,6))\n",
    "sns.boxplot(data=learn, x='activity_sector',y='Wage', width=0.5, order=code_activity_sector.Code, palette=\"PuBu\")\n",
    "plt.title('Distribution of activity sectors by wage')\n",
    "plt.show()"
   ]
  },
  {
   "cell_type": "markdown",
   "id": "random-soccer",
   "metadata": {},
   "source": [
    "Using a report by Statista https://www.statista.com/statistics/1129456/average-net-salary-in-france/ and the wage distribution across industries from the learn set, we'll regroup the industries into 3 main categories as follows:\n",
    "\n",
    "Highest_pay:\n",
    "    \n",
    "    - CD Coking and refining\n",
    "    - CE Chemical industry\n",
    "    - CF Pharmaceutical\n",
    "    - CI Manufacture of computer, electronic and electrical products\n",
    "    - CJ Manufacture of electrical equipment\n",
    "    - CK Manufacture of machinery and equipment n.e.c.\n",
    "    - CL Manufacture of transport equipment \n",
    "    - DZ Electricity generation and distribution, distribution of electricity, gas and water, ...\n",
    "    - JA Publishing & audiovisual\n",
    "    - JB Telecomunication\n",
    "    - JC IT service\n",
    "    - KZ Financial and insurance activities\n",
    "    - MA Legal, accounting & management activities\n",
    "    - MB Scientific research\n",
    "\n",
    "Lowest_pay:\n",
    "    \n",
    "    - CA Manufacture of foodstuffs\n",
    "    - AZ Agriculture, forestry and fishing\n",
    "    - IZ Accommodation and catering\n",
    "    - NZ Administrative and support service activities\n",
    "    - QB Medico-social and social housing and action\n",
    "    - TZ Activities of households as employers\n",
    "    - SZ Other service activities\n",
    "\n",
    "Average_pay: the others."
   ]
  },
  {
   "cell_type": "code",
   "execution_count": 41,
   "id": "laden-palestinian",
   "metadata": {},
   "outputs": [],
   "source": [
    "high = ['CD', 'CE', 'CF', 'CI', 'CJ', 'CK', 'CL', 'DZ', 'JA', 'JB', 'JC', 'KZ', 'MA', 'MB']\n",
    "low = ['CA', 'AZ', 'IZ', 'NZ', 'QB', 'TZ', 'SZ']\n",
    "\n",
    "def trans_activity_sector(x):\n",
    "    return 'high_pay' if x in high \\\n",
    "        else 'low_pay' if x in low \\\n",
    "        else 'average_pay'"
   ]
  },
  {
   "cell_type": "markdown",
   "id": "serial-stretch",
   "metadata": {},
   "source": [
    "##### Gender"
   ]
  },
  {
   "cell_type": "code",
   "execution_count": 42,
   "id": "needed-victim",
   "metadata": {
    "scrolled": true
   },
   "outputs": [
    {
     "data": {
      "text/plain": [
       "Female    5147\n",
       "Male      5037\n",
       "Name: Sex, dtype: int64"
      ]
     },
     "execution_count": 42,
     "metadata": {},
     "output_type": "execute_result"
    }
   ],
   "source": [
    "learn.Sex.value_counts()"
   ]
  },
  {
   "cell_type": "markdown",
   "id": "romance-fifteen",
   "metadata": {},
   "source": [
    "- The gender distribution in the learn set is balanced. We'll use one hot encoding to transform it into a binary variable.\n",
    "- We'll use external data about average hourly salary by gender by department to replace the gender categories."
   ]
  },
  {
   "cell_type": "code",
   "execution_count": 43,
   "id": "gross-kernel",
   "metadata": {},
   "outputs": [
    {
     "data": {
      "text/html": [
       "<div>\n",
       "<style scoped>\n",
       "    .dataframe tbody tr th:only-of-type {\n",
       "        vertical-align: middle;\n",
       "    }\n",
       "\n",
       "    .dataframe tbody tr th {\n",
       "        vertical-align: top;\n",
       "    }\n",
       "\n",
       "    .dataframe thead th {\n",
       "        text-align: right;\n",
       "    }\n",
       "</style>\n",
       "<table border=\"1\" class=\"dataframe\">\n",
       "  <thead>\n",
       "    <tr style=\"text-align: right;\">\n",
       "      <th></th>\n",
       "      <th>Code</th>\n",
       "      <th>Salaire net hor. moy. des hommes 2018</th>\n",
       "      <th>Salaire net hor. moy. des femmes 2018</th>\n",
       "    </tr>\n",
       "  </thead>\n",
       "  <tbody>\n",
       "    <tr>\n",
       "      <th>0</th>\n",
       "      <td>01</td>\n",
       "      <td>15.42</td>\n",
       "      <td>12.67</td>\n",
       "    </tr>\n",
       "    <tr>\n",
       "      <th>1</th>\n",
       "      <td>02</td>\n",
       "      <td>13.86</td>\n",
       "      <td>11.88</td>\n",
       "    </tr>\n",
       "    <tr>\n",
       "      <th>2</th>\n",
       "      <td>03</td>\n",
       "      <td>13.55</td>\n",
       "      <td>11.65</td>\n",
       "    </tr>\n",
       "  </tbody>\n",
       "</table>\n",
       "</div>"
      ],
      "text/plain": [
       "  Code  Salaire net hor. moy. des hommes 2018  \\\n",
       "0   01                                  15.42   \n",
       "1   02                                  13.86   \n",
       "2   03                                  13.55   \n",
       "\n",
       "   Salaire net hor. moy. des femmes 2018  \n",
       "0                                  12.67  \n",
       "1                                  11.88  \n",
       "2                                  11.65  "
      ]
     },
     "execution_count": 43,
     "metadata": {},
     "output_type": "execute_result"
    }
   ],
   "source": [
    "gender_hourly_salary = pd.read_excel(folder_path +'Average_salary_by_gender_department.xlsx',\n",
    "             skiprows=[0,1,2], header=0, nrows=96,\n",
    "             usecols=[0,2,3]) \n",
    "gender_hourly_salary.head(3)"
   ]
  },
  {
   "cell_type": "code",
   "execution_count": 44,
   "id": "excess-spouse",
   "metadata": {},
   "outputs": [],
   "source": [
    "# rename the columns for our convenience\n",
    "gender_hourly_salary.columns = ['job_dep', 'Male', 'Female']"
   ]
  },
  {
   "cell_type": "code",
   "execution_count": 45,
   "id": "japanese-tractor",
   "metadata": {},
   "outputs": [
    {
     "name": "stdout",
     "output_type": "stream",
     "text": [
      "(192, 3)\n"
     ]
    },
    {
     "data": {
      "text/html": [
       "<div>\n",
       "<style scoped>\n",
       "    .dataframe tbody tr th:only-of-type {\n",
       "        vertical-align: middle;\n",
       "    }\n",
       "\n",
       "    .dataframe tbody tr th {\n",
       "        vertical-align: top;\n",
       "    }\n",
       "\n",
       "    .dataframe thead th {\n",
       "        text-align: right;\n",
       "    }\n",
       "</style>\n",
       "<table border=\"1\" class=\"dataframe\">\n",
       "  <thead>\n",
       "    <tr style=\"text-align: right;\">\n",
       "      <th></th>\n",
       "      <th>job_dep</th>\n",
       "      <th>Sex</th>\n",
       "      <th>gender_hourly_salary_by_dep</th>\n",
       "    </tr>\n",
       "  </thead>\n",
       "  <tbody>\n",
       "    <tr>\n",
       "      <th>0</th>\n",
       "      <td>01</td>\n",
       "      <td>Male</td>\n",
       "      <td>15.42</td>\n",
       "    </tr>\n",
       "    <tr>\n",
       "      <th>1</th>\n",
       "      <td>02</td>\n",
       "      <td>Male</td>\n",
       "      <td>13.86</td>\n",
       "    </tr>\n",
       "    <tr>\n",
       "      <th>2</th>\n",
       "      <td>03</td>\n",
       "      <td>Male</td>\n",
       "      <td>13.55</td>\n",
       "    </tr>\n",
       "  </tbody>\n",
       "</table>\n",
       "</div>"
      ],
      "text/plain": [
       "  job_dep   Sex  gender_hourly_salary_by_dep\n",
       "0      01  Male                        15.42\n",
       "1      02  Male                        13.86\n",
       "2      03  Male                        13.55"
      ]
     },
     "execution_count": 45,
     "metadata": {},
     "output_type": "execute_result"
    }
   ],
   "source": [
    "gender_hourly_salary = pd.melt(gender_hourly_salary, id_vars=['job_dep'],\n",
    "        value_vars=['Male', 'Female'],\n",
    "        var_name='Sex', value_name='gender_hourly_salary_by_dep')\n",
    "print(gender_hourly_salary.shape)\n",
    "gender_hourly_salary.head(3)"
   ]
  },
  {
   "cell_type": "markdown",
   "id": "compatible-snowboard",
   "metadata": {},
   "source": [
    "#### NUMERICAL FEATURES"
   ]
  },
  {
   "cell_type": "markdown",
   "id": "recovered-perception",
   "metadata": {},
   "source": [
    "- For missing values in 'working_hours' column, we'll impute the median value using SimpleImputer combined with a pipeline during preprocessing step to avoid data leakage.\n",
    "- To help encode the location feature, we add:\n",
    "\n",
    "    - City population\n",
    "    - Department population density\n",
    "    - Department \n",
    "\n",
    "    - average salary data at department level, characterized by:\n",
    "\n",
    "    - Job level: combine hourly salary & working hours to get annual salary\n",
    "    - Age group and gender: using hourly salary data to avoid colinearity with working_hours variable."
   ]
  },
  {
   "cell_type": "markdown",
   "id": "nervous-taylor",
   "metadata": {},
   "source": [
    "##### Age & working hours"
   ]
  },
  {
   "cell_type": "markdown",
   "id": "expected-medium",
   "metadata": {},
   "source": [
    "We'll divide the age values to 3 age groups and add average salary data based on age groups later, while keeping the original values."
   ]
  },
  {
   "cell_type": "code",
   "execution_count": 46,
   "id": "proud-package",
   "metadata": {},
   "outputs": [],
   "source": [
    "age_bins = [14, 25, 50, 76]\n",
    "age_labels = ['below_25', '26-50', '51_plus']"
   ]
  },
  {
   "cell_type": "markdown",
   "id": "federal-silly",
   "metadata": {},
   "source": [
    "Import external data about average salary by age group, at department level."
   ]
  },
  {
   "cell_type": "code",
   "execution_count": 47,
   "id": "motivated-glory",
   "metadata": {},
   "outputs": [
    {
     "data": {
      "text/html": [
       "<div>\n",
       "<style scoped>\n",
       "    .dataframe tbody tr th:only-of-type {\n",
       "        vertical-align: middle;\n",
       "    }\n",
       "\n",
       "    .dataframe tbody tr th {\n",
       "        vertical-align: top;\n",
       "    }\n",
       "\n",
       "    .dataframe thead th {\n",
       "        text-align: right;\n",
       "    }\n",
       "</style>\n",
       "<table border=\"1\" class=\"dataframe\">\n",
       "  <thead>\n",
       "    <tr style=\"text-align: right;\">\n",
       "      <th></th>\n",
       "      <th>Code</th>\n",
       "      <th>Salaire net hor. moy. des 18 à 25 ans 2018</th>\n",
       "      <th>Salaire net hor. moy. des 26 à 50 ans 2018</th>\n",
       "      <th>Salaire net hor. moy. des 51 ans ou + 2018</th>\n",
       "    </tr>\n",
       "  </thead>\n",
       "  <tbody>\n",
       "    <tr>\n",
       "      <th>0</th>\n",
       "      <td>01</td>\n",
       "      <td>9.93</td>\n",
       "      <td>14.25</td>\n",
       "      <td>16.29</td>\n",
       "    </tr>\n",
       "    <tr>\n",
       "      <th>1</th>\n",
       "      <td>02</td>\n",
       "      <td>9.74</td>\n",
       "      <td>12.95</td>\n",
       "      <td>14.93</td>\n",
       "    </tr>\n",
       "    <tr>\n",
       "      <th>2</th>\n",
       "      <td>03</td>\n",
       "      <td>9.62</td>\n",
       "      <td>12.53</td>\n",
       "      <td>14.59</td>\n",
       "    </tr>\n",
       "  </tbody>\n",
       "</table>\n",
       "</div>"
      ],
      "text/plain": [
       "  Code  Salaire net hor. moy. des 18 à 25 ans 2018  \\\n",
       "0   01                                        9.93   \n",
       "1   02                                        9.74   \n",
       "2   03                                        9.62   \n",
       "\n",
       "   Salaire net hor. moy. des 26 à 50 ans 2018  \\\n",
       "0                                       14.25   \n",
       "1                                       12.95   \n",
       "2                                       12.53   \n",
       "\n",
       "   Salaire net hor. moy. des 51 ans ou + 2018  \n",
       "0                                       16.29  \n",
       "1                                       14.93  \n",
       "2                                       14.59  "
      ]
     },
     "execution_count": 47,
     "metadata": {},
     "output_type": "execute_result"
    }
   ],
   "source": [
    "age_group_hourly_salary = pd.read_excel(folder_path +'Average_salary_by_age_group_department.xlsx',\n",
    "             skiprows=[0,1,2], header=0, nrows=96,\n",
    "             usecols=[0,2,3,4]) \n",
    "age_group_hourly_salary.head(3)"
   ]
  },
  {
   "cell_type": "code",
   "execution_count": 48,
   "id": "interested-florida",
   "metadata": {},
   "outputs": [],
   "source": [
    "age_group_hourly_salary.columns = ['job_dep', 'below_25', '26-50', '51_plus']"
   ]
  },
  {
   "cell_type": "code",
   "execution_count": 49,
   "id": "informative-circulation",
   "metadata": {},
   "outputs": [
    {
     "name": "stdout",
     "output_type": "stream",
     "text": [
      "(288, 3)\n"
     ]
    },
    {
     "data": {
      "text/html": [
       "<div>\n",
       "<style scoped>\n",
       "    .dataframe tbody tr th:only-of-type {\n",
       "        vertical-align: middle;\n",
       "    }\n",
       "\n",
       "    .dataframe tbody tr th {\n",
       "        vertical-align: top;\n",
       "    }\n",
       "\n",
       "    .dataframe thead th {\n",
       "        text-align: right;\n",
       "    }\n",
       "</style>\n",
       "<table border=\"1\" class=\"dataframe\">\n",
       "  <thead>\n",
       "    <tr style=\"text-align: right;\">\n",
       "      <th></th>\n",
       "      <th>job_dep</th>\n",
       "      <th>age_group</th>\n",
       "      <th>age_group_hourly_salary_by_dep</th>\n",
       "    </tr>\n",
       "  </thead>\n",
       "  <tbody>\n",
       "    <tr>\n",
       "      <th>0</th>\n",
       "      <td>01</td>\n",
       "      <td>below_25</td>\n",
       "      <td>9.93</td>\n",
       "    </tr>\n",
       "    <tr>\n",
       "      <th>1</th>\n",
       "      <td>02</td>\n",
       "      <td>below_25</td>\n",
       "      <td>9.74</td>\n",
       "    </tr>\n",
       "    <tr>\n",
       "      <th>2</th>\n",
       "      <td>03</td>\n",
       "      <td>below_25</td>\n",
       "      <td>9.62</td>\n",
       "    </tr>\n",
       "  </tbody>\n",
       "</table>\n",
       "</div>"
      ],
      "text/plain": [
       "  job_dep age_group  age_group_hourly_salary_by_dep\n",
       "0      01  below_25                            9.93\n",
       "1      02  below_25                            9.74\n",
       "2      03  below_25                            9.62"
      ]
     },
     "execution_count": 49,
     "metadata": {},
     "output_type": "execute_result"
    }
   ],
   "source": [
    "age_group_hourly_salary = pd.melt(age_group_hourly_salary, id_vars=['job_dep'],\n",
    "        value_vars=['below_25', '26-50', '51_plus'],\n",
    "        var_name='age_group', value_name='age_group_hourly_salary_by_dep')\n",
    "print(age_group_hourly_salary.shape)\n",
    "age_group_hourly_salary.head(3)"
   ]
  },
  {
   "cell_type": "markdown",
   "id": "annoying-occupation",
   "metadata": {},
   "source": [
    "##### City population"
   ]
  },
  {
   "cell_type": "code",
   "execution_count": 50,
   "id": "front-expression",
   "metadata": {},
   "outputs": [
    {
     "name": "stdout",
     "output_type": "stream",
     "text": [
      "(35795, 2)\n"
     ]
    },
    {
     "data": {
      "text/html": [
       "<div>\n",
       "<style scoped>\n",
       "    .dataframe tbody tr th:only-of-type {\n",
       "        vertical-align: middle;\n",
       "    }\n",
       "\n",
       "    .dataframe tbody tr th {\n",
       "        vertical-align: top;\n",
       "    }\n",
       "\n",
       "    .dataframe thead th {\n",
       "        text-align: right;\n",
       "    }\n",
       "</style>\n",
       "<table border=\"1\" class=\"dataframe\">\n",
       "  <thead>\n",
       "    <tr style=\"text-align: right;\">\n",
       "      <th></th>\n",
       "      <th>INSEE_CODE</th>\n",
       "      <th>inhabitants</th>\n",
       "    </tr>\n",
       "  </thead>\n",
       "  <tbody>\n",
       "    <tr>\n",
       "      <th>0</th>\n",
       "      <td>01001</td>\n",
       "      <td>785</td>\n",
       "    </tr>\n",
       "    <tr>\n",
       "      <th>1</th>\n",
       "      <td>01002</td>\n",
       "      <td>241</td>\n",
       "    </tr>\n",
       "    <tr>\n",
       "      <th>2</th>\n",
       "      <td>01004</td>\n",
       "      <td>14557</td>\n",
       "    </tr>\n",
       "  </tbody>\n",
       "</table>\n",
       "</div>"
      ],
      "text/plain": [
       "  INSEE_CODE  inhabitants\n",
       "0      01001          785\n",
       "1      01002          241\n",
       "2      01004        14557"
      ]
     },
     "execution_count": 50,
     "metadata": {},
     "output_type": "execute_result"
    }
   ],
   "source": [
    "print(city_pop.shape)\n",
    "city_pop.head(3)"
   ]
  },
  {
   "cell_type": "code",
   "execution_count": 51,
   "id": "roman-bristol",
   "metadata": {
    "scrolled": true
   },
   "outputs": [
    {
     "name": "stdout",
     "output_type": "stream",
     "text": [
      "(35795, 4)\n"
     ]
    },
    {
     "data": {
      "text/html": [
       "<div>\n",
       "<style scoped>\n",
       "    .dataframe tbody tr th:only-of-type {\n",
       "        vertical-align: middle;\n",
       "    }\n",
       "\n",
       "    .dataframe tbody tr th {\n",
       "        vertical-align: top;\n",
       "    }\n",
       "\n",
       "    .dataframe thead th {\n",
       "        text-align: right;\n",
       "    }\n",
       "</style>\n",
       "<table border=\"1\" class=\"dataframe\">\n",
       "  <thead>\n",
       "    <tr style=\"text-align: right;\">\n",
       "      <th></th>\n",
       "      <th>Nom de la commune</th>\n",
       "      <th>INSEE_CODE</th>\n",
       "      <th>TOWN_TYPE</th>\n",
       "      <th>Dep</th>\n",
       "    </tr>\n",
       "  </thead>\n",
       "  <tbody>\n",
       "    <tr>\n",
       "      <th>0</th>\n",
       "      <td>L' Abergement-Clémenciat</td>\n",
       "      <td>01001</td>\n",
       "      <td>Commune simple</td>\n",
       "      <td>01</td>\n",
       "    </tr>\n",
       "    <tr>\n",
       "      <th>1</th>\n",
       "      <td>L' Abergement-de-Varey</td>\n",
       "      <td>01002</td>\n",
       "      <td>Commune simple</td>\n",
       "      <td>01</td>\n",
       "    </tr>\n",
       "    <tr>\n",
       "      <th>2</th>\n",
       "      <td>Ambérieu-en-Bugey</td>\n",
       "      <td>01004</td>\n",
       "      <td>Chef-lieu canton</td>\n",
       "      <td>01</td>\n",
       "    </tr>\n",
       "  </tbody>\n",
       "</table>\n",
       "</div>"
      ],
      "text/plain": [
       "          Nom de la commune INSEE_CODE         TOWN_TYPE Dep\n",
       "0  L' Abergement-Clémenciat      01001    Commune simple  01\n",
       "1    L' Abergement-de-Varey      01002    Commune simple  01\n",
       "2         Ambérieu-en-Bugey      01004  Chef-lieu canton  01"
      ]
     },
     "execution_count": 51,
     "metadata": {},
     "output_type": "execute_result"
    }
   ],
   "source": [
    "print(city_adm.shape)\n",
    "city_adm.head(3)"
   ]
  },
  {
   "cell_type": "code",
   "execution_count": 52,
   "id": "architectural-small",
   "metadata": {},
   "outputs": [
    {
     "name": "stdout",
     "output_type": "stream",
     "text": [
      "(35795, 3)\n"
     ]
    },
    {
     "data": {
      "text/html": [
       "<div>\n",
       "<style scoped>\n",
       "    .dataframe tbody tr th:only-of-type {\n",
       "        vertical-align: middle;\n",
       "    }\n",
       "\n",
       "    .dataframe tbody tr th {\n",
       "        vertical-align: top;\n",
       "    }\n",
       "\n",
       "    .dataframe thead th {\n",
       "        text-align: right;\n",
       "    }\n",
       "</style>\n",
       "<table border=\"1\" class=\"dataframe\">\n",
       "  <thead>\n",
       "    <tr style=\"text-align: right;\">\n",
       "      <th></th>\n",
       "      <th>INSEE_CODE</th>\n",
       "      <th>inhabitants</th>\n",
       "      <th>Dep</th>\n",
       "    </tr>\n",
       "  </thead>\n",
       "  <tbody>\n",
       "    <tr>\n",
       "      <th>0</th>\n",
       "      <td>01001</td>\n",
       "      <td>785</td>\n",
       "      <td>01</td>\n",
       "    </tr>\n",
       "    <tr>\n",
       "      <th>1</th>\n",
       "      <td>01002</td>\n",
       "      <td>241</td>\n",
       "      <td>01</td>\n",
       "    </tr>\n",
       "    <tr>\n",
       "      <th>2</th>\n",
       "      <td>01004</td>\n",
       "      <td>14557</td>\n",
       "      <td>01</td>\n",
       "    </tr>\n",
       "  </tbody>\n",
       "</table>\n",
       "</div>"
      ],
      "text/plain": [
       "  INSEE_CODE  inhabitants Dep\n",
       "0      01001          785  01\n",
       "1      01002          241  01\n",
       "2      01004        14557  01"
      ]
     },
     "execution_count": 52,
     "metadata": {},
     "output_type": "execute_result"
    }
   ],
   "source": [
    "# merge with city_adm data set to get department code\n",
    "city_info = pd.merge(city_pop, city_adm[['INSEE_CODE', 'Dep']], on='INSEE_CODE', how='left')\n",
    "print(city_info.shape)\n",
    "city_info.head(3)"
   ]
  },
  {
   "cell_type": "markdown",
   "id": "promotional-simple",
   "metadata": {},
   "source": [
    "##### Department population"
   ]
  },
  {
   "cell_type": "code",
   "execution_count": 53,
   "id": "likely-audience",
   "metadata": {
    "scrolled": true
   },
   "outputs": [
    {
     "name": "stdout",
     "output_type": "stream",
     "text": [
      "(96, 2)\n"
     ]
    },
    {
     "data": {
      "text/html": [
       "<div>\n",
       "<style scoped>\n",
       "    .dataframe tbody tr th:only-of-type {\n",
       "        vertical-align: middle;\n",
       "    }\n",
       "\n",
       "    .dataframe tbody tr th {\n",
       "        vertical-align: top;\n",
       "    }\n",
       "\n",
       "    .dataframe thead th {\n",
       "        text-align: right;\n",
       "    }\n",
       "</style>\n",
       "<table border=\"1\" class=\"dataframe\">\n",
       "  <thead>\n",
       "    <tr style=\"text-align: right;\">\n",
       "      <th></th>\n",
       "      <th>Dep</th>\n",
       "      <th>inhabitants</th>\n",
       "    </tr>\n",
       "  </thead>\n",
       "  <tbody>\n",
       "    <tr>\n",
       "      <th>0</th>\n",
       "      <td>01</td>\n",
       "      <td>643309</td>\n",
       "    </tr>\n",
       "    <tr>\n",
       "      <th>1</th>\n",
       "      <td>02</td>\n",
       "      <td>554040</td>\n",
       "    </tr>\n",
       "    <tr>\n",
       "      <th>2</th>\n",
       "      <td>03</td>\n",
       "      <td>353262</td>\n",
       "    </tr>\n",
       "  </tbody>\n",
       "</table>\n",
       "</div>"
      ],
      "text/plain": [
       "  Dep  inhabitants\n",
       "0  01       643309\n",
       "1  02       554040\n",
       "2  03       353262"
      ]
     },
     "execution_count": 53,
     "metadata": {},
     "output_type": "execute_result"
    }
   ],
   "source": [
    "dep_pop = city_info.groupby(['Dep'])['inhabitants'].sum().reset_index()\n",
    "print(dep_pop.shape)\n",
    "dep_pop.head(3)"
   ]
  },
  {
   "cell_type": "markdown",
   "id": "tired-silly",
   "metadata": {},
   "source": [
    "##### Department area"
   ]
  },
  {
   "cell_type": "code",
   "execution_count": 54,
   "id": "radical-bullet",
   "metadata": {},
   "outputs": [],
   "source": [
    "city_area = pd.read_excel(folder_path + 'base_cc_comparateur.xlsx', sheet_name='COM', \n",
    "                        skiprows=[0,1,2,3,4], usecols=[0, 3, 6], names=['INSEE_CODE', 'Dep', 'dep_area'])"
   ]
  },
  {
   "cell_type": "code",
   "execution_count": 55,
   "id": "rational-colon",
   "metadata": {},
   "outputs": [
    {
     "name": "stdout",
     "output_type": "stream",
     "text": [
      "(34951, 3)\n"
     ]
    },
    {
     "data": {
      "text/html": [
       "<div>\n",
       "<style scoped>\n",
       "    .dataframe tbody tr th:only-of-type {\n",
       "        vertical-align: middle;\n",
       "    }\n",
       "\n",
       "    .dataframe tbody tr th {\n",
       "        vertical-align: top;\n",
       "    }\n",
       "\n",
       "    .dataframe thead th {\n",
       "        text-align: right;\n",
       "    }\n",
       "</style>\n",
       "<table border=\"1\" class=\"dataframe\">\n",
       "  <thead>\n",
       "    <tr style=\"text-align: right;\">\n",
       "      <th></th>\n",
       "      <th>INSEE_CODE</th>\n",
       "      <th>Dep</th>\n",
       "      <th>dep_area</th>\n",
       "    </tr>\n",
       "  </thead>\n",
       "  <tbody>\n",
       "    <tr>\n",
       "      <th>0</th>\n",
       "      <td>01001</td>\n",
       "      <td>01</td>\n",
       "      <td>15.95</td>\n",
       "    </tr>\n",
       "    <tr>\n",
       "      <th>1</th>\n",
       "      <td>01002</td>\n",
       "      <td>01</td>\n",
       "      <td>9.15</td>\n",
       "    </tr>\n",
       "    <tr>\n",
       "      <th>2</th>\n",
       "      <td>01004</td>\n",
       "      <td>01</td>\n",
       "      <td>24.60</td>\n",
       "    </tr>\n",
       "  </tbody>\n",
       "</table>\n",
       "</div>"
      ],
      "text/plain": [
       "  INSEE_CODE Dep  dep_area\n",
       "0      01001  01     15.95\n",
       "1      01002  01      9.15\n",
       "2      01004  01     24.60"
      ]
     },
     "execution_count": 55,
     "metadata": {},
     "output_type": "execute_result"
    }
   ],
   "source": [
    "print(city_area.shape)\n",
    "city_area.head(3)"
   ]
  },
  {
   "cell_type": "code",
   "execution_count": 56,
   "id": "ceramic-visiting",
   "metadata": {
    "scrolled": true
   },
   "outputs": [
    {
     "name": "stdout",
     "output_type": "stream",
     "text": [
      "(96, 2)\n"
     ]
    },
    {
     "data": {
      "text/html": [
       "<div>\n",
       "<style scoped>\n",
       "    .dataframe tbody tr th:only-of-type {\n",
       "        vertical-align: middle;\n",
       "    }\n",
       "\n",
       "    .dataframe tbody tr th {\n",
       "        vertical-align: top;\n",
       "    }\n",
       "\n",
       "    .dataframe thead th {\n",
       "        text-align: right;\n",
       "    }\n",
       "</style>\n",
       "<table border=\"1\" class=\"dataframe\">\n",
       "  <thead>\n",
       "    <tr style=\"text-align: right;\">\n",
       "      <th></th>\n",
       "      <th>Dep</th>\n",
       "      <th>dep_area</th>\n",
       "    </tr>\n",
       "  </thead>\n",
       "  <tbody>\n",
       "    <tr>\n",
       "      <th>0</th>\n",
       "      <td>01</td>\n",
       "      <td>5762.39</td>\n",
       "    </tr>\n",
       "    <tr>\n",
       "      <th>1</th>\n",
       "      <td>02</td>\n",
       "      <td>7361.65</td>\n",
       "    </tr>\n",
       "    <tr>\n",
       "      <th>2</th>\n",
       "      <td>03</td>\n",
       "      <td>7340.11</td>\n",
       "    </tr>\n",
       "  </tbody>\n",
       "</table>\n",
       "</div>"
      ],
      "text/plain": [
       "  Dep  dep_area\n",
       "0  01   5762.39\n",
       "1  02   7361.65\n",
       "2  03   7340.11"
      ]
     },
     "execution_count": 56,
     "metadata": {},
     "output_type": "execute_result"
    }
   ],
   "source": [
    "dep_area = city_area.groupby(['Dep'])['dep_area'].sum().reset_index()\n",
    "# take only 96 departments\n",
    "dep_area = dep_area[:96]\n",
    "print(dep_area.shape)\n",
    "dep_area.head(3)"
   ]
  },
  {
   "cell_type": "markdown",
   "id": "recovered-accused",
   "metadata": {},
   "source": [
    "##### Household median income"
   ]
  },
  {
   "cell_type": "code",
   "execution_count": 57,
   "id": "trained-sacramento",
   "metadata": {},
   "outputs": [],
   "source": [
    "median_income = pd.read_excel(folder_path + 'FILO2018_DISP_DEP.xlsx',\n",
    "                                  sheet_name='ENSEMBLE', header=None,\n",
    "                                  skiprows=[0,1,2,3,4,5], nrows=96, usecols=[0, 6],\n",
    "                                  names=['Dep', 'dep_median_income_2018'])"
   ]
  },
  {
   "cell_type": "code",
   "execution_count": 58,
   "id": "guilty-junior",
   "metadata": {
    "scrolled": true
   },
   "outputs": [
    {
     "name": "stdout",
     "output_type": "stream",
     "text": [
      "(96, 2)\n"
     ]
    },
    {
     "data": {
      "text/html": [
       "<div>\n",
       "<style scoped>\n",
       "    .dataframe tbody tr th:only-of-type {\n",
       "        vertical-align: middle;\n",
       "    }\n",
       "\n",
       "    .dataframe tbody tr th {\n",
       "        vertical-align: top;\n",
       "    }\n",
       "\n",
       "    .dataframe thead th {\n",
       "        text-align: right;\n",
       "    }\n",
       "</style>\n",
       "<table border=\"1\" class=\"dataframe\">\n",
       "  <thead>\n",
       "    <tr style=\"text-align: right;\">\n",
       "      <th></th>\n",
       "      <th>Dep</th>\n",
       "      <th>dep_median_income_2018</th>\n",
       "    </tr>\n",
       "  </thead>\n",
       "  <tbody>\n",
       "    <tr>\n",
       "      <th>0</th>\n",
       "      <td>01</td>\n",
       "      <td>23420</td>\n",
       "    </tr>\n",
       "    <tr>\n",
       "      <th>1</th>\n",
       "      <td>02</td>\n",
       "      <td>19690</td>\n",
       "    </tr>\n",
       "    <tr>\n",
       "      <th>2</th>\n",
       "      <td>03</td>\n",
       "      <td>20360</td>\n",
       "    </tr>\n",
       "  </tbody>\n",
       "</table>\n",
       "</div>"
      ],
      "text/plain": [
       "  Dep  dep_median_income_2018\n",
       "0  01                   23420\n",
       "1  02                   19690\n",
       "2  03                   20360"
      ]
     },
     "execution_count": 58,
     "metadata": {},
     "output_type": "execute_result"
    }
   ],
   "source": [
    "print(median_income.shape)\n",
    "median_income.head(3)"
   ]
  },
  {
   "cell_type": "markdown",
   "id": "looking-congo",
   "metadata": {},
   "source": [
    "##### Full department info\n",
    "To merge with learn set & test set in department analysis."
   ]
  },
  {
   "cell_type": "code",
   "execution_count": 59,
   "id": "weird-headquarters",
   "metadata": {
    "scrolled": false
   },
   "outputs": [
    {
     "name": "stdout",
     "output_type": "stream",
     "text": [
      "(96, 3)\n"
     ]
    },
    {
     "data": {
      "text/plain": [
       "Index(['Nom du département', 'reg', 'Dep'], dtype='object')"
      ]
     },
     "execution_count": 59,
     "metadata": {},
     "output_type": "execute_result"
    }
   ],
   "source": [
    "print(departments.shape)\n",
    "departments.columns"
   ]
  },
  {
   "cell_type": "code",
   "execution_count": 60,
   "id": "dietary-decline",
   "metadata": {},
   "outputs": [
    {
     "data": {
      "text/plain": [
       "Index(['Nom du département', 'reg', 'Dep', 'dep_area', 'inhabitants',\n",
       "       'dep_median_income_2018'],\n",
       "      dtype='object')"
      ]
     },
     "execution_count": 60,
     "metadata": {},
     "output_type": "execute_result"
    }
   ],
   "source": [
    "# join the population & area data\n",
    "full_departments = pd.merge(departments, dep_area, on='Dep', how='left')\n",
    "full_departments = full_departments.merge(dep_pop, on='Dep', how='left')\n",
    "full_departments = full_departments.merge(median_income, on='Dep', how='left')\n",
    "full_departments.columns"
   ]
  },
  {
   "cell_type": "code",
   "execution_count": 61,
   "id": "peripheral-strength",
   "metadata": {},
   "outputs": [],
   "source": [
    "# rename some columns\n",
    "full_departments.rename(columns = {'Nom du département': 'dep_name',\n",
    "                                   'reg': 'region',\n",
    "                                   'Dep': 'job_dep',\n",
    "                                   'inhabitants': 'dep_population'}, inplace=True)\n",
    "# create a home_dep column as key to join later\n",
    "full_departments['home_dep'] = full_departments['job_dep']"
   ]
  },
  {
   "cell_type": "code",
   "execution_count": 62,
   "id": "tracked-diving",
   "metadata": {
    "scrolled": false
   },
   "outputs": [
    {
     "data": {
      "text/html": [
       "<div>\n",
       "<style scoped>\n",
       "    .dataframe tbody tr th:only-of-type {\n",
       "        vertical-align: middle;\n",
       "    }\n",
       "\n",
       "    .dataframe tbody tr th {\n",
       "        vertical-align: top;\n",
       "    }\n",
       "\n",
       "    .dataframe thead th {\n",
       "        text-align: right;\n",
       "    }\n",
       "</style>\n",
       "<table border=\"1\" class=\"dataframe\">\n",
       "  <thead>\n",
       "    <tr style=\"text-align: right;\">\n",
       "      <th></th>\n",
       "      <th>dep_name</th>\n",
       "      <th>region</th>\n",
       "      <th>job_dep</th>\n",
       "      <th>dep_area</th>\n",
       "      <th>dep_population</th>\n",
       "      <th>dep_median_income_2018</th>\n",
       "      <th>home_dep</th>\n",
       "      <th>dep_pop_density</th>\n",
       "    </tr>\n",
       "  </thead>\n",
       "  <tbody>\n",
       "    <tr>\n",
       "      <th>0</th>\n",
       "      <td>Ain</td>\n",
       "      <td>84</td>\n",
       "      <td>01</td>\n",
       "      <td>5762.39</td>\n",
       "      <td>643309</td>\n",
       "      <td>23420</td>\n",
       "      <td>01</td>\n",
       "      <td>111.639268</td>\n",
       "    </tr>\n",
       "    <tr>\n",
       "      <th>1</th>\n",
       "      <td>Aisne</td>\n",
       "      <td>32</td>\n",
       "      <td>02</td>\n",
       "      <td>7361.65</td>\n",
       "      <td>554040</td>\n",
       "      <td>19690</td>\n",
       "      <td>02</td>\n",
       "      <td>75.260302</td>\n",
       "    </tr>\n",
       "    <tr>\n",
       "      <th>2</th>\n",
       "      <td>Allier</td>\n",
       "      <td>84</td>\n",
       "      <td>03</td>\n",
       "      <td>7340.11</td>\n",
       "      <td>353262</td>\n",
       "      <td>20360</td>\n",
       "      <td>03</td>\n",
       "      <td>48.127617</td>\n",
       "    </tr>\n",
       "  </tbody>\n",
       "</table>\n",
       "</div>"
      ],
      "text/plain": [
       "  dep_name  region job_dep  dep_area  dep_population  dep_median_income_2018  \\\n",
       "0      Ain      84      01   5762.39          643309                   23420   \n",
       "1    Aisne      32      02   7361.65          554040                   19690   \n",
       "2   Allier      84      03   7340.11          353262                   20360   \n",
       "\n",
       "  home_dep  dep_pop_density  \n",
       "0       01       111.639268  \n",
       "1       02        75.260302  \n",
       "2       03        48.127617  "
      ]
     },
     "execution_count": 62,
     "metadata": {},
     "output_type": "execute_result"
    }
   ],
   "source": [
    "# calculate department population density\n",
    "full_departments['dep_pop_density'] = full_departments['dep_population'] / full_departments['dep_area']\n",
    "full_departments.head(3)"
   ]
  },
  {
   "cell_type": "markdown",
   "id": "considered-whole",
   "metadata": {},
   "source": [
    "#### FEATURE TRANSFORMER"
   ]
  },
  {
   "cell_type": "markdown",
   "id": "above-stage",
   "metadata": {},
   "source": [
    "Prepare for ML:\n",
    "\n",
    "- Recategorize the categorical features.\n",
    "- Incorporate department data: median income & population density, average salary by job level (n1), gender & age group.\n",
    "- Drop unused columns."
   ]
  },
  {
   "cell_type": "code",
   "execution_count": 63,
   "id": "dynamic-fitting",
   "metadata": {},
   "outputs": [],
   "source": [
    "def preprocessing(df):\n",
    "    \n",
    "    # add home department code\n",
    "    df = df.merge(city_adm[['INSEE_CODE', 'TOWN_TYPE', 'Dep']], on='INSEE_CODE', how='left')\n",
    "    df.rename(columns={'Dep': 'home_dep'}, inplace=True)\n",
    "    \n",
    "    # add city population\n",
    "    df = df.merge(city_pop, on='INSEE_CODE', how='left')\n",
    "    df.rename(columns={'inhabitants': 'city_population'}, inplace=True)\n",
    "    \n",
    "    # recategorize\n",
    "    df['work_condition_new'] = df['work_condition'].apply(trans_work_condition)\n",
    "    df['degree_new'] = df['DEGREE'].apply(trans_degree)\n",
    "    df['employee_count_new'] = df['employee_count'].apply(trans_employee_count)\n",
    "    df['activity_sector_new'] = df['activity_sector'].apply(trans_activity_sector)\n",
    "    \n",
    "    df = trans_work_description(df)\n",
    "    \n",
    "    # turn to binary\n",
    "    df['job_category_ordinary'] = np.where(df['JOB_CATEGORY']=='O', 1, 0)\n",
    "    df['type_of_contract_CDI'] = np.where(df['type_of_contract']=='CDI', 1, 0)\n",
    "    df['gender_female'] = np.where(df['Sex']=='Female', 1, 0)\n",
    "    \n",
    "    # add age groups\n",
    "    age_bins = [14, 25, 50, 76]\n",
    "    age_labels = ['below_25', '26-50', '51_plus']\n",
    "    df['age_group'] = pd.cut(df['Age_2019'], age_bins, labels=age_labels)\n",
    "    \n",
    "     # add department info: choose by home_dep or job_dep\n",
    "    dep_info = ['job_dep', 'region', 'dep_median_income_2018','dep_pop_density']\n",
    "    df = df.merge(full_departments[dep_info], on='job_dep', how='left')\n",
    "    \n",
    "    # add average salary data at department level\n",
    "    # by job level 1\n",
    "    df = df.merge(n1_hourly_salary_by_dep, on=['job_dep', 'job_description_n1'], how='left')\n",
    "    df['n1_salary_by_dep'] = df['n1_hourly_salary_by_dep'] * df['working_hours']\n",
    "    \n",
    "    # by gender\n",
    "    df = df.merge(gender_hourly_salary, on=['job_dep', 'Sex'], how='left')\n",
    "    \n",
    "    # by age group\n",
    "    df = df.merge(age_group_hourly_salary, on=['job_dep', 'age_group'], how='left')\n",
    "    \n",
    "    # drop unused columns\n",
    "    cols_to_drop = ['INSEE_CODE', 'DEGREE', 'work_condition', 'employee_count', 'activity_sector',\n",
    "               'Job_description', 'JOB_CATEGORY', 'type_of_contract', 'job_dep', 'home_dep',\n",
    "               'age_group', 'job_description_n1', 'n1_hourly_salary_by_dep', 'Sex']\n",
    "    df.drop(cols_to_drop, axis=1, inplace=True)\n",
    "    \n",
    "    return df"
   ]
  },
  {
   "cell_type": "markdown",
   "id": "parallel-exclusion",
   "metadata": {},
   "source": [
    "### PREDICTIVE ANALYSIS"
   ]
  },
  {
   "cell_type": "code",
   "execution_count": 64,
   "id": "statutory-environment",
   "metadata": {},
   "outputs": [],
   "source": [
    "from sklearn.model_selection import train_test_split\n",
    "from sklearn.impute import SimpleImputer, KNNImputer\n",
    "from sklearn.preprocessing import StandardScaler"
   ]
  },
  {
   "cell_type": "code",
   "execution_count": 65,
   "id": "frozen-duplicate",
   "metadata": {},
   "outputs": [],
   "source": [
    "from sklearn.pipeline import Pipeline\n",
    "from sklearn.pipeline import make_pipeline\n",
    "from sklearn.compose import ColumnTransformer\n",
    "from sklearn.compose import make_column_transformer\n",
    "from sklearn.preprocessing import FunctionTransformer\n",
    "from sklearn.preprocessing import OneHotEncoder\n",
    "from sklearn.decomposition import PCA"
   ]
  },
  {
   "cell_type": "code",
   "execution_count": 66,
   "id": "banner-balance",
   "metadata": {},
   "outputs": [],
   "source": [
    "from sklearn.linear_model import LinearRegression\n",
    "from sklearn.linear_model import SGDRegressor\n",
    "from sklearn.neighbors import KNeighborsRegressor\n",
    "from sklearn.ensemble import RandomForestRegressor\n",
    "from xgboost import XGBRegressor"
   ]
  },
  {
   "cell_type": "code",
   "execution_count": 67,
   "id": "initial-stake",
   "metadata": {},
   "outputs": [],
   "source": [
    "from sklearn.model_selection import cross_val_score, RepeatedKFold\n",
    "from sklearn.model_selection import GridSearchCV, RandomizedSearchCV\n",
    "import warnings\n",
    "from sklearn.metrics import mean_squared_error, r2_score"
   ]
  },
  {
   "cell_type": "markdown",
   "id": "desperate-convert",
   "metadata": {},
   "source": [
    "#### Prepare pipeline"
   ]
  },
  {
   "cell_type": "markdown",
   "id": "bulgarian-wellington",
   "metadata": {},
   "source": [
    "- Select features & target for modeling\n",
    "- Split the learn set into 90% for training & 10% for validation\n",
    "- Impute missing values in working_hours\n",
    "- Scale numerical features\n",
    "- Use One-Hot-Encoding for categorical features"
   ]
  },
  {
   "cell_type": "code",
   "execution_count": 68,
   "id": "located-coordinator",
   "metadata": {
    "scrolled": false
   },
   "outputs": [
    {
     "data": {
      "text/plain": [
       "Index(['household_type', 'Employer_category', 'working_hours', 'Age_2019',\n",
       "       'Wage', 'TOWN_TYPE', 'city_population', 'work_condition_new',\n",
       "       'degree_new', 'employee_count_new', 'activity_sector_new',\n",
       "       'job_description_n2', 'job_category_ordinary', 'type_of_contract_CDI',\n",
       "       'gender_female', 'region', 'dep_median_income_2018', 'dep_pop_density',\n",
       "       'n1_salary_by_dep', 'gender_hourly_salary_by_dep',\n",
       "       'age_group_hourly_salary_by_dep'],\n",
       "      dtype='object')"
      ]
     },
     "execution_count": 68,
     "metadata": {},
     "output_type": "execute_result"
    }
   ],
   "source": [
    "df_model = preprocessing(learn)\n",
    "df_model.columns"
   ]
  },
  {
   "cell_type": "code",
   "execution_count": 69,
   "id": "sunrise-reminder",
   "metadata": {},
   "outputs": [
    {
     "data": {
      "text/html": [
       "<div>\n",
       "<style scoped>\n",
       "    .dataframe tbody tr th:only-of-type {\n",
       "        vertical-align: middle;\n",
       "    }\n",
       "\n",
       "    .dataframe tbody tr th {\n",
       "        vertical-align: top;\n",
       "    }\n",
       "\n",
       "    .dataframe thead th {\n",
       "        text-align: right;\n",
       "    }\n",
       "</style>\n",
       "<table border=\"1\" class=\"dataframe\">\n",
       "  <thead>\n",
       "    <tr style=\"text-align: right;\">\n",
       "      <th></th>\n",
       "      <th>working_hours</th>\n",
       "      <th>Age_2019</th>\n",
       "      <th>Wage</th>\n",
       "      <th>city_population</th>\n",
       "      <th>job_category_ordinary</th>\n",
       "      <th>type_of_contract_CDI</th>\n",
       "      <th>gender_female</th>\n",
       "      <th>region</th>\n",
       "      <th>dep_median_income_2018</th>\n",
       "      <th>dep_pop_density</th>\n",
       "      <th>n1_salary_by_dep</th>\n",
       "      <th>gender_hourly_salary_by_dep</th>\n",
       "      <th>age_group_hourly_salary_by_dep</th>\n",
       "    </tr>\n",
       "  </thead>\n",
       "  <tbody>\n",
       "    <tr>\n",
       "      <th>working_hours</th>\n",
       "      <td>1.000000</td>\n",
       "      <td>0.078180</td>\n",
       "      <td>0.547347</td>\n",
       "      <td>0.017519</td>\n",
       "      <td>0.142452</td>\n",
       "      <td>0.247836</td>\n",
       "      <td>-0.109660</td>\n",
       "      <td>-0.042722</td>\n",
       "      <td>0.026971</td>\n",
       "      <td>0.017906</td>\n",
       "      <td>0.623178</td>\n",
       "      <td>0.072608</td>\n",
       "      <td>0.085007</td>\n",
       "    </tr>\n",
       "    <tr>\n",
       "      <th>Age_2019</th>\n",
       "      <td>0.078180</td>\n",
       "      <td>1.000000</td>\n",
       "      <td>0.189695</td>\n",
       "      <td>-0.002766</td>\n",
       "      <td>0.237279</td>\n",
       "      <td>0.276093</td>\n",
       "      <td>0.044105</td>\n",
       "      <td>0.014515</td>\n",
       "      <td>-0.021103</td>\n",
       "      <td>0.000993</td>\n",
       "      <td>0.072862</td>\n",
       "      <td>-0.025484</td>\n",
       "      <td>0.439587</td>\n",
       "    </tr>\n",
       "    <tr>\n",
       "      <th>Wage</th>\n",
       "      <td>0.547347</td>\n",
       "      <td>0.189695</td>\n",
       "      <td>1.000000</td>\n",
       "      <td>0.062343</td>\n",
       "      <td>0.197735</td>\n",
       "      <td>0.205208</td>\n",
       "      <td>-0.162069</td>\n",
       "      <td>-0.140458</td>\n",
       "      <td>0.190328</td>\n",
       "      <td>0.185735</td>\n",
       "      <td>0.775499</td>\n",
       "      <td>0.269287</td>\n",
       "      <td>0.298306</td>\n",
       "    </tr>\n",
       "    <tr>\n",
       "      <th>city_population</th>\n",
       "      <td>0.017519</td>\n",
       "      <td>-0.002766</td>\n",
       "      <td>0.062343</td>\n",
       "      <td>1.000000</td>\n",
       "      <td>0.018378</td>\n",
       "      <td>0.002492</td>\n",
       "      <td>-0.015605</td>\n",
       "      <td>0.024899</td>\n",
       "      <td>0.122652</td>\n",
       "      <td>0.139200</td>\n",
       "      <td>0.082879</td>\n",
       "      <td>0.147236</td>\n",
       "      <td>0.125217</td>\n",
       "    </tr>\n",
       "    <tr>\n",
       "      <th>job_category_ordinary</th>\n",
       "      <td>0.142452</td>\n",
       "      <td>0.237279</td>\n",
       "      <td>0.197735</td>\n",
       "      <td>0.018378</td>\n",
       "      <td>1.000000</td>\n",
       "      <td>0.448598</td>\n",
       "      <td>0.024431</td>\n",
       "      <td>0.019475</td>\n",
       "      <td>0.013172</td>\n",
       "      <td>-0.005208</td>\n",
       "      <td>0.121141</td>\n",
       "      <td>-0.008086</td>\n",
       "      <td>0.160135</td>\n",
       "    </tr>\n",
       "    <tr>\n",
       "      <th>type_of_contract_CDI</th>\n",
       "      <td>0.247836</td>\n",
       "      <td>0.276093</td>\n",
       "      <td>0.205208</td>\n",
       "      <td>0.002492</td>\n",
       "      <td>0.448598</td>\n",
       "      <td>1.000000</td>\n",
       "      <td>-0.016016</td>\n",
       "      <td>-0.020669</td>\n",
       "      <td>0.025582</td>\n",
       "      <td>0.021309</td>\n",
       "      <td>0.193896</td>\n",
       "      <td>0.032443</td>\n",
       "      <td>0.176622</td>\n",
       "    </tr>\n",
       "    <tr>\n",
       "      <th>gender_female</th>\n",
       "      <td>-0.109660</td>\n",
       "      <td>0.044105</td>\n",
       "      <td>-0.162069</td>\n",
       "      <td>-0.015605</td>\n",
       "      <td>0.024431</td>\n",
       "      <td>-0.016016</td>\n",
       "      <td>1.000000</td>\n",
       "      <td>0.000636</td>\n",
       "      <td>0.010493</td>\n",
       "      <td>0.016037</td>\n",
       "      <td>-0.111334</td>\n",
       "      <td>-0.390031</td>\n",
       "      <td>0.021894</td>\n",
       "    </tr>\n",
       "    <tr>\n",
       "      <th>region</th>\n",
       "      <td>-0.042722</td>\n",
       "      <td>0.014515</td>\n",
       "      <td>-0.140458</td>\n",
       "      <td>0.024899</td>\n",
       "      <td>0.019475</td>\n",
       "      <td>-0.020669</td>\n",
       "      <td>0.000636</td>\n",
       "      <td>1.000000</td>\n",
       "      <td>-0.336615</td>\n",
       "      <td>-0.489792</td>\n",
       "      <td>-0.189098</td>\n",
       "      <td>-0.431119</td>\n",
       "      <td>-0.370925</td>\n",
       "    </tr>\n",
       "    <tr>\n",
       "      <th>dep_median_income_2018</th>\n",
       "      <td>0.026971</td>\n",
       "      <td>-0.021103</td>\n",
       "      <td>0.190328</td>\n",
       "      <td>0.122652</td>\n",
       "      <td>0.013172</td>\n",
       "      <td>0.025582</td>\n",
       "      <td>0.010493</td>\n",
       "      <td>-0.336615</td>\n",
       "      <td>1.000000</td>\n",
       "      <td>0.701722</td>\n",
       "      <td>0.306460</td>\n",
       "      <td>0.813375</td>\n",
       "      <td>0.721138</td>\n",
       "    </tr>\n",
       "    <tr>\n",
       "      <th>dep_pop_density</th>\n",
       "      <td>0.017906</td>\n",
       "      <td>0.000993</td>\n",
       "      <td>0.185735</td>\n",
       "      <td>0.139200</td>\n",
       "      <td>-0.005208</td>\n",
       "      <td>0.021309</td>\n",
       "      <td>0.016037</td>\n",
       "      <td>-0.489792</td>\n",
       "      <td>0.701722</td>\n",
       "      <td>1.000000</td>\n",
       "      <td>0.288345</td>\n",
       "      <td>0.765196</td>\n",
       "      <td>0.693690</td>\n",
       "    </tr>\n",
       "    <tr>\n",
       "      <th>n1_salary_by_dep</th>\n",
       "      <td>0.623178</td>\n",
       "      <td>0.072862</td>\n",
       "      <td>0.775499</td>\n",
       "      <td>0.082879</td>\n",
       "      <td>0.121141</td>\n",
       "      <td>0.193896</td>\n",
       "      <td>-0.111334</td>\n",
       "      <td>-0.189098</td>\n",
       "      <td>0.306460</td>\n",
       "      <td>0.288345</td>\n",
       "      <td>1.000000</td>\n",
       "      <td>0.366128</td>\n",
       "      <td>0.346225</td>\n",
       "    </tr>\n",
       "    <tr>\n",
       "      <th>gender_hourly_salary_by_dep</th>\n",
       "      <td>0.072608</td>\n",
       "      <td>-0.025484</td>\n",
       "      <td>0.269287</td>\n",
       "      <td>0.147236</td>\n",
       "      <td>-0.008086</td>\n",
       "      <td>0.032443</td>\n",
       "      <td>-0.390031</td>\n",
       "      <td>-0.431119</td>\n",
       "      <td>0.813375</td>\n",
       "      <td>0.765196</td>\n",
       "      <td>0.366128</td>\n",
       "      <td>1.000000</td>\n",
       "      <td>0.718468</td>\n",
       "    </tr>\n",
       "    <tr>\n",
       "      <th>age_group_hourly_salary_by_dep</th>\n",
       "      <td>0.085007</td>\n",
       "      <td>0.439587</td>\n",
       "      <td>0.298306</td>\n",
       "      <td>0.125217</td>\n",
       "      <td>0.160135</td>\n",
       "      <td>0.176622</td>\n",
       "      <td>0.021894</td>\n",
       "      <td>-0.370925</td>\n",
       "      <td>0.721138</td>\n",
       "      <td>0.693690</td>\n",
       "      <td>0.346225</td>\n",
       "      <td>0.718468</td>\n",
       "      <td>1.000000</td>\n",
       "    </tr>\n",
       "  </tbody>\n",
       "</table>\n",
       "</div>"
      ],
      "text/plain": [
       "                                working_hours  Age_2019      Wage  \\\n",
       "working_hours                        1.000000  0.078180  0.547347   \n",
       "Age_2019                             0.078180  1.000000  0.189695   \n",
       "Wage                                 0.547347  0.189695  1.000000   \n",
       "city_population                      0.017519 -0.002766  0.062343   \n",
       "job_category_ordinary                0.142452  0.237279  0.197735   \n",
       "type_of_contract_CDI                 0.247836  0.276093  0.205208   \n",
       "gender_female                       -0.109660  0.044105 -0.162069   \n",
       "region                              -0.042722  0.014515 -0.140458   \n",
       "dep_median_income_2018               0.026971 -0.021103  0.190328   \n",
       "dep_pop_density                      0.017906  0.000993  0.185735   \n",
       "n1_salary_by_dep                     0.623178  0.072862  0.775499   \n",
       "gender_hourly_salary_by_dep          0.072608 -0.025484  0.269287   \n",
       "age_group_hourly_salary_by_dep       0.085007  0.439587  0.298306   \n",
       "\n",
       "                                city_population  job_category_ordinary  \\\n",
       "working_hours                          0.017519               0.142452   \n",
       "Age_2019                              -0.002766               0.237279   \n",
       "Wage                                   0.062343               0.197735   \n",
       "city_population                        1.000000               0.018378   \n",
       "job_category_ordinary                  0.018378               1.000000   \n",
       "type_of_contract_CDI                   0.002492               0.448598   \n",
       "gender_female                         -0.015605               0.024431   \n",
       "region                                 0.024899               0.019475   \n",
       "dep_median_income_2018                 0.122652               0.013172   \n",
       "dep_pop_density                        0.139200              -0.005208   \n",
       "n1_salary_by_dep                       0.082879               0.121141   \n",
       "gender_hourly_salary_by_dep            0.147236              -0.008086   \n",
       "age_group_hourly_salary_by_dep         0.125217               0.160135   \n",
       "\n",
       "                                type_of_contract_CDI  gender_female    region  \\\n",
       "working_hours                               0.247836      -0.109660 -0.042722   \n",
       "Age_2019                                    0.276093       0.044105  0.014515   \n",
       "Wage                                        0.205208      -0.162069 -0.140458   \n",
       "city_population                             0.002492      -0.015605  0.024899   \n",
       "job_category_ordinary                       0.448598       0.024431  0.019475   \n",
       "type_of_contract_CDI                        1.000000      -0.016016 -0.020669   \n",
       "gender_female                              -0.016016       1.000000  0.000636   \n",
       "region                                     -0.020669       0.000636  1.000000   \n",
       "dep_median_income_2018                      0.025582       0.010493 -0.336615   \n",
       "dep_pop_density                             0.021309       0.016037 -0.489792   \n",
       "n1_salary_by_dep                            0.193896      -0.111334 -0.189098   \n",
       "gender_hourly_salary_by_dep                 0.032443      -0.390031 -0.431119   \n",
       "age_group_hourly_salary_by_dep              0.176622       0.021894 -0.370925   \n",
       "\n",
       "                                dep_median_income_2018  dep_pop_density  \\\n",
       "working_hours                                 0.026971         0.017906   \n",
       "Age_2019                                     -0.021103         0.000993   \n",
       "Wage                                          0.190328         0.185735   \n",
       "city_population                               0.122652         0.139200   \n",
       "job_category_ordinary                         0.013172        -0.005208   \n",
       "type_of_contract_CDI                          0.025582         0.021309   \n",
       "gender_female                                 0.010493         0.016037   \n",
       "region                                       -0.336615        -0.489792   \n",
       "dep_median_income_2018                        1.000000         0.701722   \n",
       "dep_pop_density                               0.701722         1.000000   \n",
       "n1_salary_by_dep                              0.306460         0.288345   \n",
       "gender_hourly_salary_by_dep                   0.813375         0.765196   \n",
       "age_group_hourly_salary_by_dep                0.721138         0.693690   \n",
       "\n",
       "                                n1_salary_by_dep  gender_hourly_salary_by_dep  \\\n",
       "working_hours                           0.623178                     0.072608   \n",
       "Age_2019                                0.072862                    -0.025484   \n",
       "Wage                                    0.775499                     0.269287   \n",
       "city_population                         0.082879                     0.147236   \n",
       "job_category_ordinary                   0.121141                    -0.008086   \n",
       "type_of_contract_CDI                    0.193896                     0.032443   \n",
       "gender_female                          -0.111334                    -0.390031   \n",
       "region                                 -0.189098                    -0.431119   \n",
       "dep_median_income_2018                  0.306460                     0.813375   \n",
       "dep_pop_density                         0.288345                     0.765196   \n",
       "n1_salary_by_dep                        1.000000                     0.366128   \n",
       "gender_hourly_salary_by_dep             0.366128                     1.000000   \n",
       "age_group_hourly_salary_by_dep          0.346225                     0.718468   \n",
       "\n",
       "                                age_group_hourly_salary_by_dep  \n",
       "working_hours                                         0.085007  \n",
       "Age_2019                                              0.439587  \n",
       "Wage                                                  0.298306  \n",
       "city_population                                       0.125217  \n",
       "job_category_ordinary                                 0.160135  \n",
       "type_of_contract_CDI                                  0.176622  \n",
       "gender_female                                         0.021894  \n",
       "region                                               -0.370925  \n",
       "dep_median_income_2018                                0.721138  \n",
       "dep_pop_density                                       0.693690  \n",
       "n1_salary_by_dep                                      0.346225  \n",
       "gender_hourly_salary_by_dep                           0.718468  \n",
       "age_group_hourly_salary_by_dep                        1.000000  "
      ]
     },
     "execution_count": 69,
     "metadata": {},
     "output_type": "execute_result"
    }
   ],
   "source": [
    "df_model.corr()"
   ]
  },
  {
   "cell_type": "code",
   "execution_count": 70,
   "id": "adaptive-liability",
   "metadata": {},
   "outputs": [],
   "source": [
    "# numerical features to scale\n",
    "num_features = ['job_category_ordinary', 'type_of_contract_CDI',\n",
    "                'working_hours', 'Age_2019', 'gender_female',\n",
    "                'city_population','dep_pop_density', 'dep_median_income_2018', \n",
    "                'n1_salary_by_dep', 'age_group_hourly_salary_by_dep', 'gender_hourly_salary_by_dep']\n",
    "\n",
    "# categorical features to pass through one-hot-encoding\n",
    "cat_features = ['work_condition_new', 'degree_new', \n",
    "                'activity_sector_new', 'household_type', 'employee_count_new',\n",
    "                'job_description_n2', 'Employer_category',\n",
    "                'region', 'TOWN_TYPE']\n",
    "\n",
    "# features for modeling\n",
    "X = df_model[num_features + cat_features]\n",
    "y = df_model['Wage']"
   ]
  },
  {
   "cell_type": "markdown",
   "id": "given-thesis",
   "metadata": {},
   "source": [
    "Split to train & test set (for validation):"
   ]
  },
  {
   "cell_type": "code",
   "execution_count": 71,
   "id": "recovered-insulin",
   "metadata": {},
   "outputs": [],
   "source": [
    "X_train, X_test, y_train, y_test = train_test_split(X, y, test_size=0.1, random_state=1)"
   ]
  },
  {
   "cell_type": "markdown",
   "id": "living-respondent",
   "metadata": {},
   "source": [
    "Create a column transformer:"
   ]
  },
  {
   "cell_type": "code",
   "execution_count": 72,
   "id": "descending-james",
   "metadata": {},
   "outputs": [],
   "source": [
    "num_transformer = Pipeline([('imputer', SimpleImputer(strategy='median')),\n",
    "                            ('scaler', StandardScaler())\n",
    "                           ])\n",
    "one_hot = OneHotEncoder(drop='first', sparse=False) \n",
    "\n",
    "full_transformer = ColumnTransformer([('num', num_transformer, num_features),\n",
    "                                      ('cat', one_hot, cat_features)\n",
    "                                      ])"
   ]
  },
  {
   "cell_type": "markdown",
   "id": "mexican-present",
   "metadata": {},
   "source": [
    "Functions to get model/GridSearchCV scores:"
   ]
  },
  {
   "cell_type": "code",
   "execution_count": 73,
   "id": "broad-vinyl",
   "metadata": {},
   "outputs": [],
   "source": [
    "def get_model_score(model_name, model):\n",
    "    model_pipeline = make_pipeline(full_transformer, model)\n",
    "    # fit the full train set\n",
    "    model_pipeline.fit(X_train, y_train)\n",
    "    \n",
    "    # get score on train set\n",
    "    print('\\n', model_name, ' scores on train set:')\n",
    "    y_train_pred = model_pipeline.predict(X_train)\n",
    "    print('Mse: ', mean_squared_error(y_train, y_train_pred))\n",
    "    print('R2 score: ', r2_score(y_train,y_train_pred))\n",
    "    \n",
    "    # get score on test set\n",
    "    print('\\n', model_name, ' scores on test set:')\n",
    "    y_pred = model_pipeline.predict(X_test)\n",
    "    print('Mse: ', mean_squared_error(y_test, y_pred))\n",
    "    print('R2 score: ', r2_score(y_test,y_pred))"
   ]
  },
  {
   "cell_type": "code",
   "execution_count": 74,
   "id": "dramatic-winning",
   "metadata": {},
   "outputs": [],
   "source": [
    "def get_cv_score(model_name, model):\n",
    "    model_pipeline = make_pipeline(full_transformer, model)\n",
    "    cv_model = cross_val_score(model_pipeline, X_train, y_train, \n",
    "                                   cv=5, scoring='neg_mean_squared_error')\n",
    "    print(model_name, 'cv scores:')\n",
    "    print('CV mse :\\n', -cv_model)\n",
    "    print('CV mse - mean :', (-cv_model).mean())\n",
    "    print('CV mse - std:', cv_model.std())"
   ]
  },
  {
   "cell_type": "code",
   "execution_count": 75,
   "id": "convertible-railway",
   "metadata": {},
   "outputs": [],
   "source": [
    "def get_grid_score(model_name, model, params_grid_model):\n",
    "    model_pipeline = make_pipeline(full_transformer, model)\n",
    "    \n",
    "    model_grid = GridSearchCV(model_pipeline,\n",
    "                        param_grid=params_grid_model,\n",
    "                        scoring='neg_mean_squared_error',\n",
    "                        cv=5,\n",
    "                        n_jobs=-1,\n",
    "                        verbose=1,\n",
    "                        return_train_score=True\n",
    "                       )\n",
    "\n",
    "    warnings. filterwarnings(\"ignore\")\n",
    "    model_grid.fit(X_train, y_train)\n",
    "    \n",
    "    print(model_name, ' - Best hyperparameters:\\n{}'.format(model_grid.best_params_))\n",
    "    \n",
    "    # get score on train set\n",
    "    print('\\n', model_name, ' GridSearch best scores on train set:')\n",
    "    model_grid.best_estimator_.fit(X_train, y_train)\n",
    "    y_train_pred = model_grid.predict(X_train)\n",
    "    print('Mse: ', mean_squared_error(y_train, y_train_pred))\n",
    "    print('R2 score: ', r2_score(y_train,y_train_pred))\n",
    "    \n",
    "    # get score on test set\n",
    "    print('\\n', model_name, ' GridSearch best scores on test set:')\n",
    "    y_pred = model_grid.predict(X_test)\n",
    "    print('Mse: ', mean_squared_error(y_test, y_pred))\n",
    "    print('R2 score: ', r2_score(y_test,y_pred))"
   ]
  },
  {
   "cell_type": "code",
   "execution_count": 76,
   "id": "everyday-substance",
   "metadata": {},
   "outputs": [],
   "source": [
    "def get_prediction(model, X_train, y_train, X_test):\n",
    "    model_pipeline = make_pipeline(full_transformer, model)\n",
    "    model_pipeline.fit(X_train, y_train)\n",
    "    return model_pipeline.predict(X_test)"
   ]
  },
  {
   "cell_type": "markdown",
   "id": "going-toner",
   "metadata": {},
   "source": [
    "#### Linear Regression"
   ]
  },
  {
   "cell_type": "code",
   "execution_count": 77,
   "id": "extensive-music",
   "metadata": {},
   "outputs": [],
   "source": [
    "lr =  LinearRegression()"
   ]
  },
  {
   "cell_type": "code",
   "execution_count": 78,
   "id": "extraordinary-maximum",
   "metadata": {},
   "outputs": [
    {
     "name": "stdout",
     "output_type": "stream",
     "text": [
      "LR cv scores:\n",
      "CV mse :\n",
      " [55487421.57690374 60769540.61009615 54945046.06249279 48485357.46531514\n",
      " 56343934.71268491]\n",
      "CV mse - mean : 55206260.08549855\n",
      "CV mse - std: 3938583.7640645104\n"
     ]
    }
   ],
   "source": [
    "get_cv_score('LR', lr)"
   ]
  },
  {
   "cell_type": "markdown",
   "id": "least-interim",
   "metadata": {},
   "source": [
    "Fit the full train set & predict on test set"
   ]
  },
  {
   "cell_type": "code",
   "execution_count": 79,
   "id": "hidden-bowling",
   "metadata": {
    "scrolled": true
   },
   "outputs": [
    {
     "name": "stdout",
     "output_type": "stream",
     "text": [
      "\n",
      " LR  scores on train set:\n",
      "Mse:  54126496.25171331\n",
      "R2 score:  0.6857965232569956\n",
      "\n",
      " LR  scores on test set:\n",
      "Mse:  52261840.95789223\n",
      "R2 score:  0.6841885185800073\n"
     ]
    }
   ],
   "source": [
    "get_model_score('LR', lr)"
   ]
  },
  {
   "cell_type": "markdown",
   "id": "connected-wedding",
   "metadata": {},
   "source": [
    "#### Stochastic Gradient Descent Regressor"
   ]
  },
  {
   "cell_type": "code",
   "execution_count": 80,
   "id": "discrete-vertical",
   "metadata": {},
   "outputs": [],
   "source": [
    "sgd = SGDRegressor(max_iter=3000, tol=1e-3, penalty='elasticnet', eta0=0.1, random_state=2)"
   ]
  },
  {
   "cell_type": "code",
   "execution_count": 81,
   "id": "protecting-memphis",
   "metadata": {},
   "outputs": [
    {
     "name": "stdout",
     "output_type": "stream",
     "text": [
      "\n",
      " SGD  scores on train set:\n",
      "Mse:  56352977.875603944\n",
      "R2 score:  0.6728718317366442\n",
      "\n",
      " SGD  scores on test set:\n",
      "Mse:  55054399.384360455\n",
      "R2 score:  0.6673134526150447\n"
     ]
    }
   ],
   "source": [
    "get_model_score('SGD', sgd)"
   ]
  },
  {
   "cell_type": "code",
   "execution_count": 82,
   "id": "partial-reset",
   "metadata": {
    "scrolled": true
   },
   "outputs": [
    {
     "name": "stdout",
     "output_type": "stream",
     "text": [
      "SGD cv scores:\n",
      "CV mse :\n",
      " [57407916.63964541 62070504.67516782 57546279.94676445 49167565.75401141\n",
      " 56651478.89010178]\n",
      "CV mse - mean : 56568749.18113817\n",
      "CV mse - std: 4164455.360883819\n"
     ]
    }
   ],
   "source": [
    "get_cv_score('SGD', sgd)"
   ]
  },
  {
   "cell_type": "markdown",
   "id": "characteristic-background",
   "metadata": {},
   "source": [
    "#### Random Forest Regressor"
   ]
  },
  {
   "cell_type": "code",
   "execution_count": 83,
   "id": "mexican-damages",
   "metadata": {},
   "outputs": [],
   "source": [
    "rf = RandomForestRegressor()"
   ]
  },
  {
   "cell_type": "code",
   "execution_count": 84,
   "id": "comparative-negative",
   "metadata": {
    "scrolled": true
   },
   "outputs": [
    {
     "name": "stdout",
     "output_type": "stream",
     "text": [
      "RF cv scores:\n",
      "CV mse :\n",
      " [52315969.25853311 57096230.39336437 53815210.84961805 47310732.69349067\n",
      " 56517129.7800623 ]\n",
      "CV mse - mean : 53411054.59501369\n",
      "CV mse - std: 3515812.998281801\n",
      "\n",
      " RF  scores on train set:\n",
      "Mse:  7313015.096322388\n",
      "R2 score:  0.9575480600471005\n",
      "\n",
      " RF  scores on test set:\n",
      "Mse:  47293865.17322885\n",
      "R2 score:  0.7142093476104523\n"
     ]
    }
   ],
   "source": [
    "get_cv_score('RF', rf)\n",
    "get_model_score('RF', rf)"
   ]
  },
  {
   "cell_type": "markdown",
   "id": "efficient-adjustment",
   "metadata": {},
   "source": [
    "Default model overfitted heavily on the train set."
   ]
  },
  {
   "cell_type": "markdown",
   "id": "middle-acquisition",
   "metadata": {},
   "source": [
    "To tune hyperparamters, we'll first use RandomizedSearchCV to search in a large space of parameters, then narrow down the parameters' ranges and tune more closely."
   ]
  },
  {
   "cell_type": "code",
   "execution_count": 85,
   "id": "canadian-bristol",
   "metadata": {},
   "outputs": [
    {
     "name": "stdout",
     "output_type": "stream",
     "text": [
      "{'randomforestregressor__n_estimators': [100, 150, 200, 500, 750, 1000], 'randomforestregressor__max_features': ['auto', 'sqrt'], 'randomforestregressor__max_depth': [3, 4, 5, 6, 7, 8, 9, 10, 11, 12, 13, 14], 'randomforestregressor__min_samples_split': [4, 5, 6, 7, 8, 9]}\n"
     ]
    }
   ],
   "source": [
    "# Number of trees in random forest\n",
    "n_estimators = [100, 150, 200, 500, 750, 1000]\n",
    "\n",
    "# Number of features to consider at every split\n",
    "max_features = ['auto', 'sqrt']\n",
    "\n",
    "# Maximum number of levels in tree\n",
    "max_depth = [int(x) for x in range(3, 15)]\n",
    "\n",
    "# Minimum number of samples required to split a node\n",
    "min_samples_split = [int(x) for x in range(4, 10)]\n",
    "\n",
    "# Create the random grid\n",
    "random_grid = {'randomforestregressor__n_estimators': n_estimators,\n",
    "               'randomforestregressor__max_features': max_features,\n",
    "               'randomforestregressor__max_depth': max_depth,\n",
    "               'randomforestregressor__min_samples_split': min_samples_split\n",
    "               }\n",
    "print(random_grid)"
   ]
  },
  {
   "cell_type": "code",
   "execution_count": 86,
   "id": "solved-brief",
   "metadata": {
    "scrolled": true
   },
   "outputs": [
    {
     "name": "stdout",
     "output_type": "stream",
     "text": [
      "Fitting 3 folds for each of 150 candidates, totalling 450 fits\n"
     ]
    },
    {
     "name": "stderr",
     "output_type": "stream",
     "text": [
      "[Parallel(n_jobs=-1)]: Using backend LokyBackend with 4 concurrent workers.\n",
      "[Parallel(n_jobs=-1)]: Done  33 tasks      | elapsed:  2.8min\n",
      "[Parallel(n_jobs=-1)]: Done 154 tasks      | elapsed: 10.1min\n",
      "[Parallel(n_jobs=-1)]: Done 357 tasks      | elapsed: 22.4min\n",
      "[Parallel(n_jobs=-1)]: Done 450 out of 450 | elapsed: 32.9min finished\n"
     ]
    },
    {
     "data": {
      "text/plain": [
       "RandomizedSearchCV(cv=3,\n",
       "                   estimator=Pipeline(steps=[('columntransformer',\n",
       "                                              ColumnTransformer(transformers=[('num',\n",
       "                                                                               Pipeline(steps=[('imputer',\n",
       "                                                                                                SimpleImputer(strategy='median')),\n",
       "                                                                                               ('scaler',\n",
       "                                                                                                StandardScaler())]),\n",
       "                                                                               ['job_category_ordinary',\n",
       "                                                                                'type_of_contract_CDI',\n",
       "                                                                                'working_hours',\n",
       "                                                                                'Age_2019',\n",
       "                                                                                'gender_female',\n",
       "                                                                                'city_population',\n",
       "                                                                                'dep_pop_density',\n",
       "                                                                                'dep_median_income_201...\n",
       "                                             ('randomforestregressor',\n",
       "                                              RandomForestRegressor())]),\n",
       "                   n_iter=150, n_jobs=-1,\n",
       "                   param_distributions={'randomforestregressor__max_depth': [3,\n",
       "                                                                             4,\n",
       "                                                                             5,\n",
       "                                                                             6,\n",
       "                                                                             7,\n",
       "                                                                             8,\n",
       "                                                                             9,\n",
       "                                                                             10,\n",
       "                                                                             11,\n",
       "                                                                             12,\n",
       "                                                                             13,\n",
       "                                                                             14],\n",
       "                                        'randomforestregressor__max_features': ['auto',\n",
       "                                                                                'sqrt'],\n",
       "                                        'randomforestregressor__min_samples_split': [4,\n",
       "                                                                                     5,\n",
       "                                                                                     6,\n",
       "                                                                                     7,\n",
       "                                                                                     8,\n",
       "                                                                                     9],\n",
       "                                        'randomforestregressor__n_estimators': [100,\n",
       "                                                                                150,\n",
       "                                                                                200,\n",
       "                                                                                500,\n",
       "                                                                                750,\n",
       "                                                                                1000]},\n",
       "                   random_state=22, verbose=2)"
      ]
     },
     "execution_count": 86,
     "metadata": {},
     "output_type": "execute_result"
    }
   ],
   "source": [
    "rf = RandomForestRegressor()\n",
    "rf_pipe = make_pipeline(full_transformer, rf)\n",
    "\n",
    "rf_random = RandomizedSearchCV(estimator = rf_pipe,\n",
    "                               param_distributions = random_grid,\n",
    "                               n_iter = 150, # limit to 150 searches (450 cv fits)\n",
    "                               cv = 3,       # 3-fold cv to reduce the run time\n",
    "                               verbose=2, \n",
    "                               random_state=22,\n",
    "                               n_jobs = -1)\n",
    "\n",
    "rf_random.fit(X_train, y_train)"
   ]
  },
  {
   "cell_type": "code",
   "execution_count": 87,
   "id": "external-casino",
   "metadata": {
    "scrolled": false
   },
   "outputs": [
    {
     "data": {
      "text/plain": [
       "{'randomforestregressor__n_estimators': 750,\n",
       " 'randomforestregressor__min_samples_split': 9,\n",
       " 'randomforestregressor__max_features': 'auto',\n",
       " 'randomforestregressor__max_depth': 14}"
      ]
     },
     "execution_count": 87,
     "metadata": {},
     "output_type": "execute_result"
    }
   ],
   "source": [
    "rf_random.best_params_"
   ]
  },
  {
   "cell_type": "code",
   "execution_count": 88,
   "id": "outstanding-better",
   "metadata": {},
   "outputs": [
    {
     "name": "stdout",
     "output_type": "stream",
     "text": [
      "RF RandomizedSearch best scores on train set:\n",
      "Mse:  22831479.04497404\n",
      "R2 score:  0.8674636159385836\n",
      "RF RandomizedSearch best scores on test set:\n",
      "Mse:  46575752.793933555\n",
      "R2 score:  0.7185488069592726\n"
     ]
    }
   ],
   "source": [
    "# get_model_score('RF RandomizedSearch', rf_random.best_estimator_)\n",
    "rf_random.best_estimator_.fit(X_train, y_train)\n",
    "\n",
    "# get score on train set\n",
    "print('RF RandomizedSearch best scores on train set:')\n",
    "y_train_pred_rs = rf_random.best_estimator_.predict(X_train)\n",
    "print('Mse: ', mean_squared_error(y_train, y_train_pred_rs))\n",
    "print('R2 score: ', r2_score(y_train, y_train_pred_rs))\n",
    "    \n",
    "# get score on test set\n",
    "print('RF RandomizedSearch best scores on test set:')\n",
    "y_pred_rs = rf_random.best_estimator_.predict(X_test)\n",
    "print('Mse: ', mean_squared_error(y_test, y_pred_rs))\n",
    "print('R2 score: ', r2_score(y_test,y_pred_rs))"
   ]
  },
  {
   "cell_type": "markdown",
   "id": "continuous-underwear",
   "metadata": {},
   "source": [
    "As our training set is quite small, setting small max_features meaning increasing the number of trees and max_depth substantially, or risk underfitting. This means high model complexity & longer training time. Within the scope of this project, we'll prioritize less complex model and light computational power. \n",
    "\n",
    "From here onwards, we'll fix max_features as 'auto' and let Random Forest use all features for each tree."
   ]
  },
  {
   "cell_type": "markdown",
   "id": "advance-popularity",
   "metadata": {},
   "source": [
    "Let's do another round of RandomizedSearchCV, this time with lower range of trees & max_depth to reduce model complexity, but keep small min_sample_leaf to avoid underfitting."
   ]
  },
  {
   "cell_type": "code",
   "execution_count": 89,
   "id": "american-contribution",
   "metadata": {},
   "outputs": [
    {
     "name": "stdout",
     "output_type": "stream",
     "text": [
      "{'randomforestregressor__n_estimators': [100, 120, 150, 200], 'randomforestregressor__max_features': ['auto'], 'randomforestregressor__max_depth': [3, 4, 5, 6], 'randomforestregressor__min_samples_split': [3, 4, 5]}\n"
     ]
    }
   ],
   "source": [
    "# 2nd round of RandomizedSearchCV\n",
    "n_estimators2 = [100, 150, 200]\n",
    "\n",
    "# Number of features to consider at every split\n",
    "max_features2 = ['auto', 'sqrt']\n",
    "\n",
    "# Maximum number of levels in tree\n",
    "max_depth2 = [int(x) for x in range(3, 15)]\n",
    "\n",
    "# Minimum number of samples required to split a node\n",
    "min_samples_split2 = [int(x) for x in range(4, 10)]\n",
    "\n",
    "# Create the random grid\n",
    "random_grid2 = {'randomforestregressor__n_estimators': [100,120,150,200],\n",
    "               'randomforestregressor__max_features': ['auto'],\n",
    "               'randomforestregressor__max_depth': [3,4,5,6],\n",
    "               'randomforestregressor__min_samples_split': [3,4,5]\n",
    "               }\n",
    "print(random_grid2)"
   ]
  },
  {
   "cell_type": "code",
   "execution_count": 90,
   "id": "lesbian-celebration",
   "metadata": {
    "scrolled": true
   },
   "outputs": [
    {
     "name": "stderr",
     "output_type": "stream",
     "text": [
      "/Applications/anaconda3/lib/python3.7/site-packages/sklearn/model_selection/_search.py:282: UserWarning: The total space of parameters 48 is smaller than n_iter=100. Running 48 iterations. For exhaustive searches, use GridSearchCV.\n",
      "  % (grid_size, self.n_iter, grid_size), UserWarning)\n",
      "[Parallel(n_jobs=-1)]: Using backend LokyBackend with 4 concurrent workers.\n"
     ]
    },
    {
     "name": "stdout",
     "output_type": "stream",
     "text": [
      "Fitting 3 folds for each of 48 candidates, totalling 144 fits\n"
     ]
    },
    {
     "name": "stderr",
     "output_type": "stream",
     "text": [
      "[Parallel(n_jobs=-1)]: Done  33 tasks      | elapsed:   47.9s\n",
      "[Parallel(n_jobs=-1)]: Done 144 out of 144 | elapsed:  4.3min finished\n"
     ]
    },
    {
     "data": {
      "text/plain": [
       "RandomizedSearchCV(cv=3,\n",
       "                   estimator=Pipeline(steps=[('columntransformer',\n",
       "                                              ColumnTransformer(transformers=[('num',\n",
       "                                                                               Pipeline(steps=[('imputer',\n",
       "                                                                                                SimpleImputer(strategy='median')),\n",
       "                                                                                               ('scaler',\n",
       "                                                                                                StandardScaler())]),\n",
       "                                                                               ['job_category_ordinary',\n",
       "                                                                                'type_of_contract_CDI',\n",
       "                                                                                'working_hours',\n",
       "                                                                                'Age_2019',\n",
       "                                                                                'gender_female',\n",
       "                                                                                'city_population',\n",
       "                                                                                'dep_pop_density',\n",
       "                                                                                'dep_median_income_201...\n",
       "                                                                                'Employer_category',\n",
       "                                                                                'region',\n",
       "                                                                                'TOWN_TYPE'])])),\n",
       "                                             ('randomforestregressor',\n",
       "                                              RandomForestRegressor())]),\n",
       "                   n_iter=100, n_jobs=-1,\n",
       "                   param_distributions={'randomforestregressor__max_depth': [3,\n",
       "                                                                             4,\n",
       "                                                                             5,\n",
       "                                                                             6],\n",
       "                                        'randomforestregressor__max_features': ['auto'],\n",
       "                                        'randomforestregressor__min_samples_split': [3,\n",
       "                                                                                     4,\n",
       "                                                                                     5],\n",
       "                                        'randomforestregressor__n_estimators': [100,\n",
       "                                                                                120,\n",
       "                                                                                150,\n",
       "                                                                                200]},\n",
       "                   random_state=22, verbose=2)"
      ]
     },
     "execution_count": 90,
     "metadata": {},
     "output_type": "execute_result"
    }
   ],
   "source": [
    "rf2 = RandomForestRegressor()\n",
    "rf_pipe2 = make_pipeline(full_transformer, rf2)\n",
    "\n",
    "rf_random2 = RandomizedSearchCV(estimator = rf_pipe2,\n",
    "                               param_distributions = random_grid2,\n",
    "                               n_iter = 100,\n",
    "                               cv = 3,\n",
    "                               verbose=2, \n",
    "                               random_state=22,\n",
    "                               n_jobs = -1)\n",
    "\n",
    "rf_random2.fit(X_train, y_train)"
   ]
  },
  {
   "cell_type": "code",
   "execution_count": 91,
   "id": "accepted-tiffany",
   "metadata": {
    "scrolled": true
   },
   "outputs": [
    {
     "data": {
      "text/plain": [
       "{'randomforestregressor__n_estimators': 200,\n",
       " 'randomforestregressor__min_samples_split': 3,\n",
       " 'randomforestregressor__max_features': 'auto',\n",
       " 'randomforestregressor__max_depth': 6}"
      ]
     },
     "execution_count": 91,
     "metadata": {},
     "output_type": "execute_result"
    }
   ],
   "source": [
    "rf_random2.best_params_"
   ]
  },
  {
   "cell_type": "code",
   "execution_count": 92,
   "id": "dimensional-thesis",
   "metadata": {
    "scrolled": true
   },
   "outputs": [
    {
     "name": "stdout",
     "output_type": "stream",
     "text": [
      "RF RandomizedSearch_2 best scores on train set:\n",
      "Mse:  49192402.54018299\n",
      "R2 score:  0.714438861226351\n",
      "RF RandomizedSearch_2 best scores on test set:\n",
      "Mse:  46575752.793933555\n",
      "R2 score:  0.7185488069592726\n"
     ]
    }
   ],
   "source": [
    "rf_random2.best_estimator_.fit(X_train, y_train)\n",
    "\n",
    "# get score on train set\n",
    "print('RF RandomizedSearch_2 best scores on train set:')\n",
    "y_train_pred_rs2 = rf_random2.best_estimator_.predict(X_train)\n",
    "print('Mse: ', mean_squared_error(y_train, y_train_pred_rs2))\n",
    "print('R2 score: ', r2_score(y_train, y_train_pred_rs2))\n",
    "    \n",
    "# get score on test set\n",
    "print('RF RandomizedSearch_2 best scores on test set:')\n",
    "y_pred_rs2 = rf_random.best_estimator_.predict(X_test)\n",
    "print('Mse: ', mean_squared_error(y_test, y_pred_rs2))\n",
    "print('R2 score: ', r2_score(y_test,y_pred_rs2))"
   ]
  },
  {
   "cell_type": "markdown",
   "id": "frequent-textbook",
   "metadata": {},
   "source": [
    "Great, we have no overfitting issue. Now we'll use GridSearchCV to narrow down the search, by looking for values close to the optimal values suggested by RandomizedSearch."
   ]
  },
  {
   "cell_type": "code",
   "execution_count": 93,
   "id": "ongoing-cursor",
   "metadata": {
    "scrolled": false
   },
   "outputs": [
    {
     "name": "stdout",
     "output_type": "stream",
     "text": [
      "Fitting 5 folds for each of 27 candidates, totalling 135 fits\n"
     ]
    },
    {
     "name": "stderr",
     "output_type": "stream",
     "text": [
      "[Parallel(n_jobs=-1)]: Using backend LokyBackend with 4 concurrent workers.\n",
      "[Parallel(n_jobs=-1)]: Done  42 tasks      | elapsed:  2.4min\n",
      "[Parallel(n_jobs=-1)]: Done 135 out of 135 | elapsed:  7.6min finished\n"
     ]
    },
    {
     "name": "stdout",
     "output_type": "stream",
     "text": [
      "RF with GridSearch  - Best hyperparameters:\n",
      "{'randomforestregressor__max_depth': 7, 'randomforestregressor__min_samples_leaf': 4, 'randomforestregressor__n_estimators': 250}\n",
      "\n",
      " RF with GridSearch  GridSearch best scores on train set:\n",
      "Mse:  46031048.6883236\n",
      "R2 score:  0.7327904716252536\n",
      "\n",
      " RF with GridSearch  GridSearch best scores on test set:\n",
      "Mse:  50113471.24259278\n",
      "R2 score:  0.6971708362709058\n"
     ]
    }
   ],
   "source": [
    "rf_grid = RandomForestRegressor(max_features='auto')\n",
    "\n",
    "%timeit\n",
    "# set hyper-parameters\n",
    "params_rf_grid = {'randomforestregressor__n_estimators': [150,200,250],\n",
    "              'randomforestregressor__max_depth': [5,6,7],\n",
    "              'randomforestregressor__min_samples_leaf': [2,3,4]\n",
    "            }\n",
    "\n",
    "get_grid_score('RF with GridSearch', rf_grid, params_rf_grid)"
   ]
  },
  {
   "cell_type": "markdown",
   "id": "dedicated-index",
   "metadata": {},
   "source": [
    "In this case, increasing the model complexity actually causes overfitting, the model fitted better on the training set but performs worse on the test set. We want to avoid this so we'll choose the parameters suggested earlier by RandomizedSearch. "
   ]
  },
  {
   "cell_type": "markdown",
   "id": "adaptive-mobility",
   "metadata": {},
   "source": [
    "Final model:"
   ]
  },
  {
   "cell_type": "code",
   "execution_count": 96,
   "id": "union-local",
   "metadata": {
    "scrolled": true
   },
   "outputs": [
    {
     "data": {
      "text/plain": [
       "Pipeline(steps=[('columntransformer',\n",
       "                 ColumnTransformer(transformers=[('num',\n",
       "                                                  Pipeline(steps=[('imputer',\n",
       "                                                                   SimpleImputer(strategy='median')),\n",
       "                                                                  ('scaler',\n",
       "                                                                   StandardScaler())]),\n",
       "                                                  ['job_category_ordinary',\n",
       "                                                   'type_of_contract_CDI',\n",
       "                                                   'working_hours', 'Age_2019',\n",
       "                                                   'gender_female',\n",
       "                                                   'city_population',\n",
       "                                                   'dep_pop_density',\n",
       "                                                   'dep_median_income_2018',\n",
       "                                                   'n1_salary_by_dep',\n",
       "                                                   'age_group_h..._by_dep',\n",
       "                                                   'gender_hourly_salary_by_dep']),\n",
       "                                                 ('cat',\n",
       "                                                  OneHotEncoder(drop='first',\n",
       "                                                                sparse=False),\n",
       "                                                  ['work_condition_new',\n",
       "                                                   'degree_new',\n",
       "                                                   'activity_sector_new',\n",
       "                                                   'household_type',\n",
       "                                                   'employee_count_new',\n",
       "                                                   'job_description_n2',\n",
       "                                                   'Employer_category',\n",
       "                                                   'region', 'TOWN_TYPE'])])),\n",
       "                ('randomforestregressor',\n",
       "                 RandomForestRegressor(max_depth=6, min_samples_split=3,\n",
       "                                       n_estimators=200))])"
      ]
     },
     "execution_count": 96,
     "metadata": {},
     "output_type": "execute_result"
    }
   ],
   "source": [
    "rf_random2.best_estimator_"
   ]
  },
  {
   "cell_type": "markdown",
   "id": "biblical-sheffield",
   "metadata": {},
   "source": [
    "#### XGBoost Regression"
   ]
  },
  {
   "cell_type": "code",
   "execution_count": 97,
   "id": "fitting-candidate",
   "metadata": {
    "scrolled": true
   },
   "outputs": [
    {
     "name": "stdout",
     "output_type": "stream",
     "text": [
      "\n",
      " XGB  scores on train set:\n",
      "Mse:  14441223.783992779\n",
      "R2 score:  0.9161689184488703\n",
      "\n",
      " XGB  scores on test set:\n",
      "Mse:  45119837.472761825\n",
      "R2 score:  0.7273467131557223\n"
     ]
    }
   ],
   "source": [
    "# get score of the default XGBRegressor\n",
    "xgb = XGBRegressor()\n",
    "get_model_score('XGB', xgb)"
   ]
  },
  {
   "cell_type": "markdown",
   "id": "white-shannon",
   "metadata": {},
   "source": [
    "As the training data is quite small, the default XGBRegressor overfits easily."
   ]
  },
  {
   "cell_type": "markdown",
   "id": "dressed-public",
   "metadata": {},
   "source": [
    "We'll tune the hyperparameters step by step using GridSearchCV:"
   ]
  },
  {
   "cell_type": "markdown",
   "id": "premium-abortion",
   "metadata": {},
   "source": [
    "- Step 1: Fix some parameters, tune n_estimators & learning rate first:\n",
    "\n",
    "    - n_estimators in [100, 150] for our small dataset\n",
    "    - learning rate in [0.05, 0.1, 0.2]"
   ]
  },
  {
   "cell_type": "code",
   "execution_count": 98,
   "id": "strategic-former",
   "metadata": {},
   "outputs": [
    {
     "name": "stdout",
     "output_type": "stream",
     "text": [
      "Fitting 5 folds for each of 6 candidates, totalling 30 fits\n"
     ]
    },
    {
     "name": "stderr",
     "output_type": "stream",
     "text": [
      "[Parallel(n_jobs=-1)]: Using backend LokyBackend with 4 concurrent workers.\n",
      "[Parallel(n_jobs=-1)]: Done  30 out of  30 | elapsed:   56.3s finished\n"
     ]
    },
    {
     "name": "stdout",
     "output_type": "stream",
     "text": [
      "XGB1  - Best hyperparameters:\n",
      "{'xgbregressor__learning_rate': 0.1, 'xgbregressor__n_estimators': 150}\n",
      "\n",
      " XGB1  GridSearch best scores on train set:\n",
      "Mse:  43447715.609374136\n",
      "R2 score:  0.7477866803437414\n",
      "\n",
      " XGB1  GridSearch best scores on test set:\n",
      "Mse:  45719712.484888874\n",
      "R2 score:  0.7237217467792161\n"
     ]
    }
   ],
   "source": [
    "xgb1 = XGBRegressor(max_depth=3,\n",
    "                   gamma=0,\n",
    "                   colsample_bytree=0.8,\n",
    "                   subsample=0.8,\n",
    "                   seed=3)\n",
    "params_xgb1 = {'xgbregressor__n_estimators': [100, 150],  \n",
    "              'xgbregressor__learning_rate': [0.05, 0.1, 0.2]\n",
    "              }\n",
    "get_grid_score('XGB1', xgb1, params_xgb1)"
   ]
  },
  {
   "cell_type": "markdown",
   "id": "connected-boundary",
   "metadata": {},
   "source": [
    "Step 2: Tune max_depth & min_child_weight:\n",
    "    \n",
    "    - max_depth in [3, 4, 5]\n",
    "    - min_child_weight in [1, 2, 3]"
   ]
  },
  {
   "cell_type": "code",
   "execution_count": 100,
   "id": "royal-marshall",
   "metadata": {},
   "outputs": [
    {
     "name": "stdout",
     "output_type": "stream",
     "text": [
      "Fitting 5 folds for each of 12 candidates, totalling 60 fits\n"
     ]
    },
    {
     "name": "stderr",
     "output_type": "stream",
     "text": [
      "[Parallel(n_jobs=-1)]: Using backend LokyBackend with 4 concurrent workers.\n",
      "[Parallel(n_jobs=-1)]: Done  42 tasks      | elapsed:  1.8min\n",
      "[Parallel(n_jobs=-1)]: Done  60 out of  60 | elapsed:  2.7min finished\n"
     ]
    },
    {
     "name": "stdout",
     "output_type": "stream",
     "text": [
      "XGB2  - Best hyperparameters:\n",
      "{'xgbregressor__max_depth': 4, 'xgbregressor__min_child_weight': 3}\n",
      "\n",
      " XGB2  GridSearch best scores on train set:\n",
      "Mse:  37785891.98476285\n",
      "R2 score:  0.7806534792454388\n",
      "\n",
      " XGB2  GridSearch best scores on test set:\n",
      "Mse:  43896503.309431076\n",
      "R2 score:  0.7347391617819475\n"
     ]
    }
   ],
   "source": [
    "xgb2 = XGBRegressor(n_estimators=150,\n",
    "                   max_depth=3,\n",
    "                   gamma=0, \n",
    "                   learning_rate=0.1,\n",
    "                   colsample_bytree=0.8,\n",
    "                   subsample=0.8,\n",
    "                   seed=3\n",
    "                   )\n",
    "params_xgb2 = {'xgbregressor__min_child_weight': [1,2,3,4],\n",
    "               'xgbregressor__max_depth': [3,4,5],\n",
    "              }\n",
    "get_grid_score('XGB2', xgb2, params_xgb2)"
   ]
  },
  {
   "cell_type": "markdown",
   "id": "pressed-portal",
   "metadata": {},
   "source": [
    "- Step 3: \n",
    "\n",
    "    - Tune gamma: [i/10.0 for i in range(0,5)]"
   ]
  },
  {
   "cell_type": "code",
   "execution_count": 101,
   "id": "handed-exhaust",
   "metadata": {},
   "outputs": [
    {
     "name": "stdout",
     "output_type": "stream",
     "text": [
      "Fitting 5 folds for each of 5 candidates, totalling 25 fits\n"
     ]
    },
    {
     "name": "stderr",
     "output_type": "stream",
     "text": [
      "[Parallel(n_jobs=-1)]: Using backend LokyBackend with 4 concurrent workers.\n",
      "[Parallel(n_jobs=-1)]: Done  25 out of  25 | elapsed:  1.3min finished\n"
     ]
    },
    {
     "name": "stdout",
     "output_type": "stream",
     "text": [
      "XGB3  - Best hyperparameters:\n",
      "{'xgbregressor__gamma': 0.0}\n",
      "\n",
      " XGB3  GridSearch best scores on train set:\n",
      "Mse:  37785891.98476285\n",
      "R2 score:  0.7806534792454388\n",
      "\n",
      " XGB3  GridSearch best scores on test set:\n",
      "Mse:  43896503.309431076\n",
      "R2 score:  0.7347391617819475\n"
     ]
    }
   ],
   "source": [
    "xgb3 = XGBRegressor(n_estimators=150,\n",
    "                   max_depth=4,\n",
    "                   gamma=0, \n",
    "                   learning_rate=0.1,\n",
    "                   colsample_bytree=0.8,\n",
    "                   subsample=0.8,\n",
    "                   min_child_weight=3,\n",
    "                   seed=3\n",
    "                   )\n",
    "params_xgb3 = {'xgbregressor__gamma': [i/10.0 for i in range(0,5)]\n",
    "              }\n",
    "get_grid_score('XGB3', xgb3, params_xgb3)"
   ]
  },
  {
   "cell_type": "markdown",
   "id": "breathing-alarm",
   "metadata": {},
   "source": [
    "- Step 4 - Tune subsample and colsample_bytree:\n",
    "\n",
    "    - subsample in [0.6,0.7,0.8,0.9]\n",
    "    - colsample_bytree in [0.6,0.7,0.8,0.9]\n"
   ]
  },
  {
   "cell_type": "code",
   "execution_count": 102,
   "id": "attached-rebate",
   "metadata": {},
   "outputs": [
    {
     "name": "stdout",
     "output_type": "stream",
     "text": [
      "Fitting 5 folds for each of 16 candidates, totalling 80 fits\n"
     ]
    },
    {
     "name": "stderr",
     "output_type": "stream",
     "text": [
      "[Parallel(n_jobs=-1)]: Using backend LokyBackend with 4 concurrent workers.\n",
      "[Parallel(n_jobs=-1)]: Done  42 tasks      | elapsed:  1.7min\n",
      "[Parallel(n_jobs=-1)]: Done  80 out of  80 | elapsed:  3.1min finished\n"
     ]
    },
    {
     "name": "stdout",
     "output_type": "stream",
     "text": [
      "XGB4  - Best hyperparameters:\n",
      "{'xgbregressor__colsample_bytree': 0.6, 'xgbregressor__subsample': 0.7}\n",
      "\n",
      " XGB4  GridSearch best scores on train set:\n",
      "Mse:  37949577.04587205\n",
      "R2 score:  0.7797032899878111\n",
      "\n",
      " XGB4  GridSearch best scores on test set:\n",
      "Mse:  44256932.28461575\n",
      "R2 score:  0.7325611365437729\n"
     ]
    }
   ],
   "source": [
    "xgb4 = XGBRegressor(n_estimators=150,\n",
    "                   max_depth=4,\n",
    "                   gamma=0, \n",
    "                   learning_rate=0.1,\n",
    "                   min_child_weight=2,\n",
    "                   seed=3\n",
    "                   )\n",
    "params_xgb4 = {'xgbregressor__subsample': [0.6,0.7,0.8,0.9],\n",
    "               'xgbregressor__colsample_bytree': [0.6,0.7,0.8,0.9]\n",
    "              }\n",
    "get_grid_score('XGB4', xgb4, params_xgb4)"
   ]
  },
  {
   "cell_type": "markdown",
   "id": "original-humanitarian",
   "metadata": {},
   "source": [
    "Optimal value for subsample is 0.7 & for colsample_bytree is 0.6.\n",
    "\n",
    "We'll tune with value 0.05 above & below these."
   ]
  },
  {
   "cell_type": "code",
   "execution_count": 103,
   "id": "convenient-trial",
   "metadata": {},
   "outputs": [
    {
     "name": "stdout",
     "output_type": "stream",
     "text": [
      "Fitting 5 folds for each of 9 candidates, totalling 45 fits\n"
     ]
    },
    {
     "name": "stderr",
     "output_type": "stream",
     "text": [
      "[Parallel(n_jobs=-1)]: Using backend LokyBackend with 4 concurrent workers.\n",
      "[Parallel(n_jobs=-1)]: Done  45 out of  45 | elapsed:  1.3min finished\n"
     ]
    },
    {
     "name": "stdout",
     "output_type": "stream",
     "text": [
      "XGB52  - Best hyperparameters:\n",
      "{'xgbregressor__colsample_bytree': 0.6, 'xgbregressor__subsample': 0.65}\n",
      "\n",
      " XGB52  GridSearch best scores on train set:\n",
      "Mse:  38095723.19466096\n",
      "R2 score:  0.7788549138459577\n",
      "\n",
      " XGB52  GridSearch best scores on test set:\n",
      "Mse:  43533075.58613417\n",
      "R2 score:  0.7369353080634373\n"
     ]
    }
   ],
   "source": [
    "xgb52 = XGBRegressor(n_estimators=150,\n",
    "                   max_depth=4,\n",
    "                   gamma=0, \n",
    "                   learning_rate=0.1,\n",
    "                   min_child_weight=2,\n",
    "                   seed=3\n",
    "                   )\n",
    "params_xgb52 = {'xgbregressor__subsample': [0.65,0.7,0.75],\n",
    "               'xgbregressor__colsample_bytree': [0.55,0.6,0.65]\n",
    "              }\n",
    "get_grid_score('XGB52', xgb52, params_xgb52)"
   ]
  },
  {
   "cell_type": "markdown",
   "id": "broke-belief",
   "metadata": {},
   "source": [
    "Step 6 - Tuning Regularization Parameters\n",
    "    \n",
    "    - 'reg_alpha':[1e-5, 1e-2, 0.1, 1, 100]"
   ]
  },
  {
   "cell_type": "code",
   "execution_count": 105,
   "id": "pressing-resort",
   "metadata": {},
   "outputs": [
    {
     "name": "stdout",
     "output_type": "stream",
     "text": [
      "Fitting 5 folds for each of 5 candidates, totalling 25 fits\n"
     ]
    },
    {
     "name": "stderr",
     "output_type": "stream",
     "text": [
      "[Parallel(n_jobs=-1)]: Using backend LokyBackend with 4 concurrent workers.\n",
      "[Parallel(n_jobs=-1)]: Done  25 out of  25 | elapsed:   41.1s finished\n"
     ]
    },
    {
     "name": "stdout",
     "output_type": "stream",
     "text": [
      "XGB6  - Best hyperparameters:\n",
      "{'xgbregressor__reg_alpha': 1}\n",
      "\n",
      " XGB6  GridSearch best scores on train set:\n",
      "Mse:  38095808.01442119\n",
      "R2 score:  0.7788544214685564\n",
      "\n",
      " XGB6  GridSearch best scores on test set:\n",
      "Mse:  43533094.29282737\n",
      "R2 score:  0.7369351950213328\n"
     ]
    }
   ],
   "source": [
    "xgb6 = XGBRegressor(n_estimators=150,\n",
    "                   max_depth=4,\n",
    "                   gamma=0, \n",
    "                   learning_rate=0.1,\n",
    "                   min_child_weight=2,\n",
    "                   subsample=0.65,\n",
    "                    colsample_bytree=0.6,\n",
    "                   seed=3\n",
    "                   )\n",
    "params_xgb6 = {'xgbregressor__reg_alpha':[1e-5, 1e-2, 0.1, 1, 100]\n",
    "              }\n",
    "get_grid_score('XGB6', xgb6, params_xgb6)"
   ]
  },
  {
   "cell_type": "markdown",
   "id": "sought-travel",
   "metadata": {},
   "source": [
    "Step 7 - Reduce learning rate & incease n_estimators to get more robust model"
   ]
  },
  {
   "cell_type": "code",
   "execution_count": 107,
   "id": "after-angle",
   "metadata": {
    "scrolled": true
   },
   "outputs": [
    {
     "name": "stdout",
     "output_type": "stream",
     "text": [
      "Fitting 5 folds for each of 9 candidates, totalling 45 fits\n"
     ]
    },
    {
     "name": "stderr",
     "output_type": "stream",
     "text": [
      "[Parallel(n_jobs=-1)]: Using backend LokyBackend with 4 concurrent workers.\n",
      "[Parallel(n_jobs=-1)]: Done  45 out of  45 | elapsed:  1.5min finished\n"
     ]
    },
    {
     "name": "stdout",
     "output_type": "stream",
     "text": [
      "XGB7  - Best hyperparameters:\n",
      "{'xgbregressor__learning_rate': 0.1, 'xgbregressor__n_estimators': 150}\n",
      "\n",
      " XGB7  GridSearch best scores on train set:\n",
      "Mse:  38095808.01442119\n",
      "R2 score:  0.7788544214685564\n",
      "\n",
      " XGB7  GridSearch best scores on test set:\n",
      "Mse:  43533094.29282737\n",
      "R2 score:  0.7369351950213328\n"
     ]
    }
   ],
   "source": [
    "xgb7 = XGBRegressor(n_estimators=150,\n",
    "                   max_depth=4,\n",
    "                   gamma=0, \n",
    "                   min_child_weight=2,\n",
    "                   subsample=0.65,\n",
    "                    colsample_bytree=0.6,\n",
    "                    reg_alpha=1,\n",
    "                   seed=3\n",
    "                   )\n",
    "params_xgb7 = {'xgbregressor__learning_rate':[0.025, 0.05, 0.1],\n",
    "               'xgbregressor__n_estimators': [150,180,200]\n",
    "              }\n",
    "get_grid_score('XGB7', xgb7, params_xgb7)"
   ]
  },
  {
   "cell_type": "markdown",
   "id": "brilliant-playing",
   "metadata": {},
   "source": [
    "This will be our final model."
   ]
  },
  {
   "cell_type": "code",
   "execution_count": 108,
   "id": "copyrighted-switzerland",
   "metadata": {},
   "outputs": [
    {
     "name": "stdout",
     "output_type": "stream",
     "text": [
      "XGB_best cv scores:\n",
      "CV mse :\n",
      " [48042592.3107811  54563934.88549487 49416223.56078857 44843768.11624543\n",
      " 53781655.055312  ]\n",
      "CV mse - mean : 50129634.785724394\n",
      "CV mse - std: 3627819.11731811\n",
      "\n",
      " XGB_best  scores on train set:\n",
      "Mse:  38095808.01442119\n",
      "R2 score:  0.7788544214685564\n",
      "\n",
      " XGB_best  scores on test set:\n",
      "Mse:  43533094.29282737\n",
      "R2 score:  0.7369351950213328\n"
     ]
    }
   ],
   "source": [
    "xgb_best = XGBRegressor(n_estimators=150,\n",
    "                   max_depth=4,\n",
    "                   gamma=0, \n",
    "                   min_child_weight=2,\n",
    "                   subsample=0.65,\n",
    "                    colsample_bytree=0.6,\n",
    "                    reg_alpha=1,\n",
    "                    learning_rate=0.1,\n",
    "                   seed=3\n",
    "                   )\n",
    "get_cv_score('XGB_best', xgb_best)\n",
    "get_model_score('XGB_best', xgb_best)"
   ]
  },
  {
   "cell_type": "markdown",
   "id": "binding-acrobat",
   "metadata": {},
   "source": [
    "#### Final test results"
   ]
  },
  {
   "cell_type": "markdown",
   "id": "hired-stability",
   "metadata": {},
   "source": [
    "Import test file (only the predictors are provided, not the target)"
   ]
  },
  {
   "cell_type": "code",
   "execution_count": 109,
   "id": "pregnant-production",
   "metadata": {},
   "outputs": [],
   "source": [
    "test_raw = pd.read_csv(folder_path + 'test.csv')\n",
    "test_prep = preprocessing(test_raw)\n",
    "X_test_final = df_model[num_features + cat_features]"
   ]
  },
  {
   "cell_type": "code",
   "execution_count": 110,
   "id": "drawn-diesel",
   "metadata": {
    "scrolled": false
   },
   "outputs": [
    {
     "name": "stdout",
     "output_type": "stream",
     "text": [
      "XGB best - cv scores:\n",
      "CV mse :\n",
      " [30106941.50547805 36977853.36990584 51754783.16054716 58666371.42531142\n",
      " 81994952.59117019]\n",
      "CV mse - mean : 51900180.41048253\n",
      "CV mse - std: 18161051.181544855\n"
     ]
    }
   ],
   "source": [
    "xgb_best_pipe = make_pipeline(full_transformer, xgb_best)\n",
    "# cross validation on the full learn set\n",
    "cv_xgb_best = cross_val_score(xgb_best_pipe, X, y, \n",
    "                                   cv=5, scoring='neg_mean_squared_error')\n",
    "\n",
    "print('XGB best - cv scores:')\n",
    "print('CV mse :\\n', -cv_xgb_best)\n",
    "print('CV mse - mean :', (-cv_xgb_best).mean())\n",
    "print('CV mse - std:', cv_xgb_best.std())"
   ]
  },
  {
   "cell_type": "code",
   "execution_count": 113,
   "id": "amateur-dream",
   "metadata": {},
   "outputs": [
    {
     "name": "stdout",
     "output_type": "stream",
     "text": [
      "70061231.5920274\n",
      "33739129.22893768\n"
     ]
    }
   ],
   "source": [
    "print(51900180.41048253 + 18161051.181544855*1)\n",
    "print(51900180.41048253 - 18161051.181544855*1)"
   ]
  },
  {
   "cell_type": "markdown",
   "id": "industrial-oliver",
   "metadata": {},
   "source": [
    "Using the cross validation score on the full learn set, for a conservative approach, we expect our predictions on the final test set to have the mean squared error in the range of 2 standard deviation around the mean mse during cross validation:\n",
    "- High bound: mse + 1 std = 70061231.5920274\n",
    "- Low bound: mse - 1 std = 33739129.22893768"
   ]
  },
  {
   "cell_type": "markdown",
   "id": "charged-street",
   "metadata": {},
   "source": [
    "Model score on full learn set:"
   ]
  },
  {
   "cell_type": "code",
   "execution_count": 114,
   "id": "going-river",
   "metadata": {},
   "outputs": [
    {
     "name": "stdout",
     "output_type": "stream",
     "text": [
      "XGB best - scores on full train set:\n",
      "Mse: 38181873.07164159\n",
      "R2 score: 0.7774785892085898\n"
     ]
    }
   ],
   "source": [
    "xgb_best_pipe.fit(X, y)\n",
    "y_train_pred_xgb_best = xgb_best_pipe.predict(X)\n",
    "print('XGB best - scores on full train set:')\n",
    "print('Mse:', mean_squared_error(y, y_train_pred_xgb_best))\n",
    "print('R2 score:', r2_score(y, y_train_pred_xgb_best))"
   ]
  },
  {
   "cell_type": "markdown",
   "id": "expensive-relations",
   "metadata": {},
   "source": [
    "Get our best predictions and export to a .csv file for submission:"
   ]
  },
  {
   "cell_type": "code",
   "execution_count": 115,
   "id": "shared-wisdom",
   "metadata": {},
   "outputs": [],
   "source": [
    "predictions = xgb_best_pipe.predict(X_test_final)"
   ]
  },
  {
   "cell_type": "code",
   "execution_count": 116,
   "id": "offshore-psychiatry",
   "metadata": {},
   "outputs": [],
   "source": [
    "# predictions.to_csv(folder_path+ 'predictions.csv')"
   ]
  }
 ],
 "metadata": {
  "kernelspec": {
   "display_name": "Python 3",
   "language": "python",
   "name": "python3"
  },
  "language_info": {
   "codemirror_mode": {
    "name": "ipython",
    "version": 3
   },
   "file_extension": ".py",
   "mimetype": "text/x-python",
   "name": "python",
   "nbconvert_exporter": "python",
   "pygments_lexer": "ipython3",
   "version": "3.7.9"
  },
  "latex_envs": {
   "LaTeX_envs_menu_present": true,
   "autoclose": false,
   "autocomplete": true,
   "bibliofile": "biblio.bib",
   "cite_by": "apalike",
   "current_citInitial": 1,
   "eqLabelWithNumbers": true,
   "eqNumInitial": 1,
   "hotkeys": {
    "equation": "Ctrl-E",
    "itemize": "Ctrl-I"
   },
   "labels_anchors": false,
   "latex_user_defs": false,
   "report_style_numbering": false,
   "user_envs_cfg": false
  },
  "toc": {
   "base_numbering": 1,
   "nav_menu": {},
   "number_sections": true,
   "sideBar": true,
   "skip_h1_title": true,
   "title_cell": "Table of Contents",
   "title_sidebar": "Contents",
   "toc_cell": false,
   "toc_position": {
    "height": "calc(100% - 180px)",
    "left": "10px",
    "top": "150px",
    "width": "280.391px"
   },
   "toc_section_display": true,
   "toc_window_display": true
  }
 },
 "nbformat": 4,
 "nbformat_minor": 5
}
